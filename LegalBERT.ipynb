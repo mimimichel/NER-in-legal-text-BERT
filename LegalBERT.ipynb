{
  "cells": [
    {
      "cell_type": "markdown",
      "metadata": {},
      "source": [
        "# BERT Model (bert-base-german-cased from Huggingface) for Named Entity Recognition in German Legal Texts"
      ]
    },
    {
      "cell_type": "markdown",
      "metadata": {},
      "source": [
        "Here I investigate a dataset containing German federal court decisions annotated with 19 different labels (source: https://github.com/elenanereiss/Legal-Entity-Recognition) and fine-tune 'bert-base-german-cased' from huggingface to recognize these labels. I shall compare the results with Leitner E., Rehm G., Moreno-Schneider J. (2019).\n"
      ]
    },
    {
      "cell_type": "code",
      "execution_count": 258,
      "metadata": {
        "id": "01JS3BHc3oNH"
      },
      "outputs": [],
      "source": [
        "import csv\n",
        "import pandas as pd\n",
        "import numpy as np\n",
        "import os\n",
        "\n",
        "import matplotlib.pyplot as plt\n",
        "import seaborn as sns\n",
        "\n",
        "\n",
        "import torch\n",
        "from torch.utils.data import TensorDataset, DataLoader, RandomSampler, SequentialSampler\n",
        "\n",
        "from keras.preprocessing.sequence import pad_sequences\n",
        "\n",
        "import transformers\n",
        "from transformers import BertTokenizer, BertConfig\n",
        "from transformers import get_linear_schedule_with_warmup\n",
        "from transformers import BertForTokenClassification, AdamW\n",
        "from transformers import AutoTokenizer\n",
        "#from transformers import AutoConfig, TFAutoModelForTokenClassification\n",
        "from transformers import get_linear_schedule_with_warmup\n",
        "\n",
        "from sklearn.model_selection import train_test_split\n",
        "from sklearn.metrics import multilabel_confusion_matrix\n",
        "from sklearn.metrics import accuracy_score, precision_score, recall_score, f1_score\n",
        "\n",
        "from seqeval.metrics import f1_score, accuracy_score, precision_score, recall_score\n",
        "from tqdm import tqdm, trange"
      ]
    },
    {
      "cell_type": "markdown",
      "metadata": {},
      "source": [
        "## 1. Read data to dataframe"
      ]
    },
    {
      "cell_type": "markdown",
      "metadata": {
        "id": "pp7iBlpn_J1S"
      },
      "source": [
        "Create a csv-file and fill it with the data from the ConLL files."
      ]
    },
    {
      "cell_type": "code",
      "execution_count": 425,
      "metadata": {
        "id": "71kG_wzpwFPt"
      },
      "outputs": [],
      "source": [
        "# create an empty csv via a pandas dataframe and write lines from CoNLL files\n",
        "df = pd.DataFrame(list())\n",
        "df.to_csv('data.csv')\n",
        "\n",
        "with open('data.csv', 'w') as data:\n",
        "  data.write('running_text|word|tag\\n')\n",
        "  text = 0\n",
        "  for item in os.listdir('./data/dataset_courts'):\n",
        "    with open('./data/dataset_courts/'+item, 'r') as file:\n",
        "      for line in file.readlines():\n",
        "        if line == '\\n':\n",
        "          text += 1\n",
        "        elif len(line.split())==2:\n",
        "          word, tag = line.split()\n",
        "        else:\n",
        "          word, tag = [\" \", line.strip()]\n",
        "        data.write(f\"{str(text)}|{word}|{tag}\\n\")"
      ]
    },
    {
      "cell_type": "code",
      "execution_count": 481,
      "metadata": {
        "colab": {
          "base_uri": "https://localhost:8080/",
          "height": 204
        },
        "id": "_InUSvor886W",
        "outputId": "17d2ed8e-6b4e-4ded-d982-fe681f8489e4"
      },
      "outputs": [
        {
          "data": {
            "text/html": [
              "<div>\n",
              "<style scoped>\n",
              "    .dataframe tbody tr th:only-of-type {\n",
              "        vertical-align: middle;\n",
              "    }\n",
              "\n",
              "    .dataframe tbody tr th {\n",
              "        vertical-align: top;\n",
              "    }\n",
              "\n",
              "    .dataframe thead th {\n",
              "        text-align: right;\n",
              "    }\n",
              "</style>\n",
              "<table border=\"1\" class=\"dataframe\">\n",
              "  <thead>\n",
              "    <tr style=\"text-align: right;\">\n",
              "      <th></th>\n",
              "      <th>running_text</th>\n",
              "      <th>word</th>\n",
              "      <th>tag</th>\n",
              "    </tr>\n",
              "  </thead>\n",
              "  <tbody>\n",
              "    <tr>\n",
              "      <th>0</th>\n",
              "      <td>0</td>\n",
              "      <td>(</td>\n",
              "      <td>O</td>\n",
              "    </tr>\n",
              "    <tr>\n",
              "      <th>1</th>\n",
              "      <td>0</td>\n",
              "      <td>Veräußerung</td>\n",
              "      <td>O</td>\n",
              "    </tr>\n",
              "    <tr>\n",
              "      <th>2</th>\n",
              "      <td>0</td>\n",
              "      <td>von</td>\n",
              "      <td>O</td>\n",
              "    </tr>\n",
              "    <tr>\n",
              "      <th>3</th>\n",
              "      <td>0</td>\n",
              "      <td>Anteilen</td>\n",
              "      <td>O</td>\n",
              "    </tr>\n",
              "    <tr>\n",
              "      <th>4</th>\n",
              "      <td>0</td>\n",
              "      <td>an</td>\n",
              "      <td>O</td>\n",
              "    </tr>\n",
              "    <tr>\n",
              "      <th>5</th>\n",
              "      <td>0</td>\n",
              "      <td>Kapitalgesellschaften</td>\n",
              "      <td>O</td>\n",
              "    </tr>\n",
              "    <tr>\n",
              "      <th>6</th>\n",
              "      <td>0</td>\n",
              "      <td>(</td>\n",
              "      <td>O</td>\n",
              "    </tr>\n",
              "    <tr>\n",
              "      <th>7</th>\n",
              "      <td>0</td>\n",
              "      <td>§</td>\n",
              "      <td>B-GS</td>\n",
              "    </tr>\n",
              "    <tr>\n",
              "      <th>8</th>\n",
              "      <td>0</td>\n",
              "      <td>17</td>\n",
              "      <td>I-GS</td>\n",
              "    </tr>\n",
              "    <tr>\n",
              "      <th>9</th>\n",
              "      <td>0</td>\n",
              "      <td>Abs.</td>\n",
              "      <td>I-GS</td>\n",
              "    </tr>\n",
              "  </tbody>\n",
              "</table>\n",
              "</div>"
            ],
            "text/plain": [
              "   running_text                   word   tag\n",
              "0             0                      (     O\n",
              "1             0            Veräußerung     O\n",
              "2             0                    von     O\n",
              "3             0               Anteilen     O\n",
              "4             0                     an     O\n",
              "5             0  Kapitalgesellschaften     O\n",
              "6             0                      (     O\n",
              "7             0                      §  B-GS\n",
              "8             0                     17  I-GS\n",
              "9             0                   Abs.  I-GS"
            ]
          },
          "execution_count": 481,
          "metadata": {},
          "output_type": "execute_result"
        }
      ],
      "source": [
        "# create a dataframe and fill running_sentence column\n",
        "data = pd.read_csv('data.csv', delimiter='|', quoting=3).fillna(method='ffill')\n",
        "data.head(10)"
      ]
    },
    {
      "cell_type": "markdown",
      "metadata": {},
      "source": [
        "## 2. Quick investigation of data"
      ]
    },
    {
      "cell_type": "markdown",
      "metadata": {
        "id": "PTUdb5tQxMUB"
      },
      "source": [
        "### 2.1 Frequencies of different annotation labels\n",
        "\n",
        "Word-labels at the beginning of an annorated expression in a sentence start with \"B-...\", the following words of the expression start with \"I-...\", unlabelled words are tagged as \"O\". Counting tags is done by counting the occurrences of \"B-...\" .\n",
        "\n",
        "First, create a new colum that determines whether a tag is a startertag.\n",
        "\n",
        "We ignore the overwhelming majority of untagged expressions and create a dataframe that contains only \"B-...\" tags, clean them, and receive readable tag names.\n",
        "\n"
      ]
    },
    {
      "cell_type": "markdown",
      "metadata": {},
      "source": [
        "The different annotations are not balanced with respect to their frequency. 'GS' occurs 18522 times, 'AN' only 111 times."
      ]
    },
    {
      "cell_type": "code",
      "execution_count": 483,
      "metadata": {
        "colab": {
          "base_uri": "https://localhost:8080/",
          "height": 760
        },
        "id": "8FDMGQ7lKX0e",
        "outputId": "1e420634-b373-47c2-8041-24fae152d010"
      },
      "outputs": [
        {
          "name": "stderr",
          "output_type": "stream",
          "text": [
            "/var/folders/79/3my_8k414ysgm21wrxlcfln80000gn/T/ipykernel_82698/1773081013.py:5: SettingWithCopyWarning: \n",
            "A value is trying to be set on a copy of a slice from a DataFrame.\n",
            "Try using .loc[row_indexer,col_indexer] = value instead\n",
            "\n",
            "See the caveats in the documentation: https://pandas.pydata.org/pandas-docs/stable/user_guide/indexing.html#returning-a-view-versus-a-copy\n",
            "  df1['tag'] = df1.tag.apply(lambda x: x if x == 'O' else x.split('-')[-1])\n"
          ]
        },
        {
          "data": {
            "text/html": [
              "<div>\n",
              "<style scoped>\n",
              "    .dataframe tbody tr th:only-of-type {\n",
              "        vertical-align: middle;\n",
              "    }\n",
              "\n",
              "    .dataframe tbody tr th {\n",
              "        vertical-align: top;\n",
              "    }\n",
              "\n",
              "    .dataframe thead th {\n",
              "        text-align: right;\n",
              "    }\n",
              "</style>\n",
              "<table border=\"1\" class=\"dataframe\">\n",
              "  <thead>\n",
              "    <tr style=\"text-align: right;\">\n",
              "      <th></th>\n",
              "      <th>tag</th>\n",
              "      <th>counts</th>\n",
              "    </tr>\n",
              "  </thead>\n",
              "  <tbody>\n",
              "    <tr>\n",
              "      <th>0</th>\n",
              "      <td>GS</td>\n",
              "      <td>18522</td>\n",
              "    </tr>\n",
              "    <tr>\n",
              "      <th>1</th>\n",
              "      <td>RS</td>\n",
              "      <td>12580</td>\n",
              "    </tr>\n",
              "    <tr>\n",
              "      <th>2</th>\n",
              "      <td>GRT</td>\n",
              "      <td>3217</td>\n",
              "    </tr>\n",
              "    <tr>\n",
              "      <th>3</th>\n",
              "      <td>LIT</td>\n",
              "      <td>3006</td>\n",
              "    </tr>\n",
              "    <tr>\n",
              "      <th>4</th>\n",
              "      <td>VT</td>\n",
              "      <td>2863</td>\n",
              "    </tr>\n",
              "    <tr>\n",
              "      <th>5</th>\n",
              "      <td>RR</td>\n",
              "      <td>2507</td>\n",
              "    </tr>\n",
              "    <tr>\n",
              "      <th>6</th>\n",
              "      <td>INN</td>\n",
              "      <td>2197</td>\n",
              "    </tr>\n",
              "    <tr>\n",
              "      <th>7</th>\n",
              "      <td>PER</td>\n",
              "      <td>1759</td>\n",
              "    </tr>\n",
              "    <tr>\n",
              "      <th>8</th>\n",
              "      <td>EUN</td>\n",
              "      <td>1500</td>\n",
              "    </tr>\n",
              "    <tr>\n",
              "      <th>9</th>\n",
              "      <td>LD</td>\n",
              "      <td>1437</td>\n",
              "    </tr>\n",
              "    <tr>\n",
              "      <th>10</th>\n",
              "      <td>ORG</td>\n",
              "      <td>1168</td>\n",
              "    </tr>\n",
              "    <tr>\n",
              "      <th>11</th>\n",
              "      <td>UN</td>\n",
              "      <td>1060</td>\n",
              "    </tr>\n",
              "    <tr>\n",
              "      <th>12</th>\n",
              "      <td>VO</td>\n",
              "      <td>797</td>\n",
              "    </tr>\n",
              "    <tr>\n",
              "      <th>13</th>\n",
              "      <td>ST</td>\n",
              "      <td>724</td>\n",
              "    </tr>\n",
              "    <tr>\n",
              "      <th>14</th>\n",
              "      <td>VS</td>\n",
              "      <td>610</td>\n",
              "    </tr>\n",
              "    <tr>\n",
              "      <th>15</th>\n",
              "      <td>MRK</td>\n",
              "      <td>297</td>\n",
              "    </tr>\n",
              "    <tr>\n",
              "      <th>16</th>\n",
              "      <td>LDS</td>\n",
              "      <td>199</td>\n",
              "    </tr>\n",
              "    <tr>\n",
              "      <th>17</th>\n",
              "      <td>STR</td>\n",
              "      <td>136</td>\n",
              "    </tr>\n",
              "    <tr>\n",
              "      <th>18</th>\n",
              "      <td>AN</td>\n",
              "      <td>111</td>\n",
              "    </tr>\n",
              "  </tbody>\n",
              "</table>\n",
              "</div>"
            ],
            "text/plain": [
              "    tag  counts\n",
              "0    GS   18522\n",
              "1    RS   12580\n",
              "2   GRT    3217\n",
              "3   LIT    3006\n",
              "4    VT    2863\n",
              "5    RR    2507\n",
              "6   INN    2197\n",
              "7   PER    1759\n",
              "8   EUN    1500\n",
              "9    LD    1437\n",
              "10  ORG    1168\n",
              "11   UN    1060\n",
              "12   VO     797\n",
              "13   ST     724\n",
              "14   VS     610\n",
              "15  MRK     297\n",
              "16  LDS     199\n",
              "17  STR     136\n",
              "18   AN     111"
            ]
          },
          "execution_count": 483,
          "metadata": {},
          "output_type": "execute_result"
        }
      ],
      "source": [
        "df = data\n",
        "df['startertag'] = df.tag.str.startswith('B')\n",
        "\n",
        "df1 = df[df.startertag == True]\n",
        "df1['tag'] = df1.tag.apply(lambda x: x if x == 'O' else x.split('-')[-1])\n",
        "\n",
        "df2 = df1.groupby('tag').size().sort_values(ascending=False).reset_index(name='counts')\n",
        "df2"
      ]
    },
    {
      "cell_type": "code",
      "execution_count": 484,
      "metadata": {},
      "outputs": [
        {
          "data": {
            "text/plain": [
              "Text(0.5, 1.0, 'Frequency of Annotation Labels in Corpus')"
            ]
          },
          "execution_count": 484,
          "metadata": {},
          "output_type": "execute_result"
        },
        {
          "data": {
            "image/png": "[encoded data removed]",
            "text/plain": [
              "<Figure size 864x864 with 1 Axes>"
            ]
          },
          "metadata": {},
          "output_type": "display_data"
        }
      ],
      "source": [
        "sns.set(style='darkgrid')\n",
        "plt.rcParams[\"figure.figsize\"] = (12,10)\n",
        "\n",
        "g = sns.catplot(\n",
        "    data=df2, kind=\"bar\",\n",
        "    x=\"tag\", y=\"counts\",\n",
        "    ci=\"sd\",\n",
        "    palette=\"dark\",\n",
        "    height=12,\n",
        "    alpha=.6\n",
        "    )\n",
        "g.despine(left=True)\n",
        "g.set_axis_labels(\"Annotations\", \"Frequency\")\n",
        "g.set_xticklabels()\n",
        "plt.title(\"Frequency of Annotation Labels in Corpus\")"
      ]
    },
    {
      "cell_type": "markdown",
      "metadata": {},
      "source": [
        "### 2.2 Observations on how labels are generally distributed over the dataset"
      ]
    },
    {
      "cell_type": "markdown",
      "metadata": {},
      "source": [
        "How many expressions have been labelled in a text? There are about 1.8 such expressions per annotated sentence (annotations potentially comprising more than one word)."
      ]
    },
    {
      "cell_type": "code",
      "execution_count": 485,
      "metadata": {
        "colab": {
          "base_uri": "https://localhost:8080/",
          "height": 419
        },
        "id": "ycLNhcuX1fRh",
        "outputId": "26f0ff03-f529-4afe-b1ea-78268117e9ab"
      },
      "outputs": [
        {
          "data": {
            "text/html": [
              "<div>\n",
              "<style scoped>\n",
              "    .dataframe tbody tr th:only-of-type {\n",
              "        vertical-align: middle;\n",
              "    }\n",
              "\n",
              "    .dataframe tbody tr th {\n",
              "        vertical-align: top;\n",
              "    }\n",
              "\n",
              "    .dataframe thead th {\n",
              "        text-align: right;\n",
              "    }\n",
              "</style>\n",
              "<table border=\"1\" class=\"dataframe\">\n",
              "  <thead>\n",
              "    <tr style=\"text-align: right;\">\n",
              "      <th></th>\n",
              "      <th>running_text</th>\n",
              "      <th>counts</th>\n",
              "    </tr>\n",
              "  </thead>\n",
              "  <tbody>\n",
              "    <tr>\n",
              "      <th>0</th>\n",
              "      <td>0</td>\n",
              "      <td>4</td>\n",
              "    </tr>\n",
              "    <tr>\n",
              "      <th>1</th>\n",
              "      <td>1</td>\n",
              "      <td>2</td>\n",
              "    </tr>\n",
              "    <tr>\n",
              "      <th>2</th>\n",
              "      <td>3</td>\n",
              "      <td>1</td>\n",
              "    </tr>\n",
              "    <tr>\n",
              "      <th>3</th>\n",
              "      <td>6</td>\n",
              "      <td>1</td>\n",
              "    </tr>\n",
              "    <tr>\n",
              "      <th>4</th>\n",
              "      <td>7</td>\n",
              "      <td>2</td>\n",
              "    </tr>\n",
              "    <tr>\n",
              "      <th>5</th>\n",
              "      <td>10</td>\n",
              "      <td>1</td>\n",
              "    </tr>\n",
              "    <tr>\n",
              "      <th>6</th>\n",
              "      <td>15</td>\n",
              "      <td>2</td>\n",
              "    </tr>\n",
              "    <tr>\n",
              "      <th>7</th>\n",
              "      <td>42</td>\n",
              "      <td>2</td>\n",
              "    </tr>\n",
              "    <tr>\n",
              "      <th>8</th>\n",
              "      <td>49</td>\n",
              "      <td>3</td>\n",
              "    </tr>\n",
              "    <tr>\n",
              "      <th>9</th>\n",
              "      <td>62</td>\n",
              "      <td>1</td>\n",
              "    </tr>\n",
              "    <tr>\n",
              "      <th>10</th>\n",
              "      <td>68</td>\n",
              "      <td>4</td>\n",
              "    </tr>\n",
              "    <tr>\n",
              "      <th>11</th>\n",
              "      <td>69</td>\n",
              "      <td>1</td>\n",
              "    </tr>\n",
              "    <tr>\n",
              "      <th>12</th>\n",
              "      <td>71</td>\n",
              "      <td>1</td>\n",
              "    </tr>\n",
              "    <tr>\n",
              "      <th>13</th>\n",
              "      <td>73</td>\n",
              "      <td>1</td>\n",
              "    </tr>\n",
              "    <tr>\n",
              "      <th>14</th>\n",
              "      <td>76</td>\n",
              "      <td>2</td>\n",
              "    </tr>\n",
              "    <tr>\n",
              "      <th>15</th>\n",
              "      <td>77</td>\n",
              "      <td>1</td>\n",
              "    </tr>\n",
              "    <tr>\n",
              "      <th>16</th>\n",
              "      <td>78</td>\n",
              "      <td>1</td>\n",
              "    </tr>\n",
              "    <tr>\n",
              "      <th>17</th>\n",
              "      <td>79</td>\n",
              "      <td>3</td>\n",
              "    </tr>\n",
              "    <tr>\n",
              "      <th>18</th>\n",
              "      <td>80</td>\n",
              "      <td>2</td>\n",
              "    </tr>\n",
              "    <tr>\n",
              "      <th>19</th>\n",
              "      <td>81</td>\n",
              "      <td>1</td>\n",
              "    </tr>\n",
              "  </tbody>\n",
              "</table>\n",
              "</div>"
            ],
            "text/plain": [
              "    running_text  counts\n",
              "0              0       4\n",
              "1              1       2\n",
              "2              3       1\n",
              "3              6       1\n",
              "4              7       2\n",
              "5             10       1\n",
              "6             15       2\n",
              "7             42       2\n",
              "8             49       3\n",
              "9             62       1\n",
              "10            68       4\n",
              "11            69       1\n",
              "12            71       1\n",
              "13            73       1\n",
              "14            76       2\n",
              "15            77       1\n",
              "16            78       1\n",
              "17            79       3\n",
              "18            80       2\n",
              "19            81       1"
            ]
          },
          "execution_count": 485,
          "metadata": {},
          "output_type": "execute_result"
        }
      ],
      "source": [
        "df3 = df1.groupby('running_text').size().reset_index(name='counts')\n",
        "df3.head(20)"
      ]
    },
    {
      "cell_type": "code",
      "execution_count": 486,
      "metadata": {
        "colab": {
          "base_uri": "https://localhost:8080/"
        },
        "id": "-gdxt9WW2Irz",
        "outputId": "cf26d2ca-2130-4f7c-f78a-df3f003333dc"
      },
      "outputs": [
        {
          "data": {
            "text/plain": [
              "1.8"
            ]
          },
          "execution_count": 486,
          "metadata": {},
          "output_type": "execute_result"
        }
      ],
      "source": [
        "annotations_per_sentence = df3.counts.sum()/len(df3)\n",
        "annotations_per_sentence.round(2)"
      ]
    },
    {
      "cell_type": "markdown",
      "metadata": {},
      "source": [
        "Close to a fifth of the words in the dataset are labelled."
      ]
    },
    {
      "cell_type": "code",
      "execution_count": 487,
      "metadata": {},
      "outputs": [
        {
          "data": {
            "text/plain": [
              "0.19"
            ]
          },
          "execution_count": 487,
          "metadata": {},
          "output_type": "execute_result"
        }
      ],
      "source": [
        "df4 = df\n",
        "# register if a word is labelled (1) or not (0)\n",
        "df4['label'] = df4.tag.apply(lambda x: 0 if x == 'O' else 1)\n",
        "# fill a column with 1s to count words per sentence\n",
        "df4['textlength'] = df.tag.apply(lambda x: 1)\n",
        "labelled_words = df4.label.sum()/df4.textlength.sum()\n",
        "labelled_words.round(2)"
      ]
    },
    {
      "cell_type": "markdown",
      "metadata": {},
      "source": [
        "However, more than half of the texts contain no annotations."
      ]
    },
    {
      "cell_type": "code",
      "execution_count": 488,
      "metadata": {},
      "outputs": [
        {
          "data": {
            "text/plain": [
              "0.5446765781427972"
            ]
          },
          "execution_count": 488,
          "metadata": {},
          "output_type": "execute_result"
        }
      ],
      "source": [
        "df5 = df4.groupby('running_text')[['label', 'textlength']].sum().reset_index()\n",
        "text_annotation_rate = len(df5[df5.label == 0])/len(df5)\n",
        "text_annotation_rate"
      ]
    },
    {
      "cell_type": "markdown",
      "metadata": {},
      "source": [
        "Average word-length of a text (sentence) is 33.3"
      ]
    },
    {
      "cell_type": "code",
      "execution_count": 489,
      "metadata": {},
      "outputs": [
        {
          "data": {
            "text/plain": [
              "33.33"
            ]
          },
          "execution_count": 489,
          "metadata": {},
          "output_type": "execute_result"
        }
      ],
      "source": [
        "df_words_per_text = df5.textlength.sum()/len(df5)\n",
        "words_per_text.round(2)"
      ]
    },
    {
      "cell_type": "markdown",
      "metadata": {},
      "source": [
        "Generally, labels seems evenly distributed throughout the dataset, the number of labelled words being clearly correlated to the lengths of the sentence. Hence, the dataset seems consistently suitable for training a language model for NER."
      ]
    },
    {
      "cell_type": "code",
      "execution_count": 449,
      "metadata": {},
      "outputs": [
        {
          "data": {
            "text/plain": [
              "<AxesSubplot:xlabel='running_text', ylabel='label'>"
            ]
          },
          "execution_count": 449,
          "metadata": {},
          "output_type": "execute_result"
        },
        {
          "data": {
            "image/png": "[encoded data removed]",
            "text/plain": [
              "<Figure size 1440x576 with 1 Axes>"
            ]
          },
          "metadata": {},
          "output_type": "display_data"
        }
      ],
      "source": [
        "plt.figure(figsize = (20, 8))\n",
        "\n",
        "plt.subplot()\n",
        "sns.lineplot(x=\"running_text\", y=\"label\", data=df5[:500])\n",
        "sns.lineplot(x=\"running_text\", y=\"textlength\", data=df5[:500])"
      ]
    },
    {
      "cell_type": "markdown",
      "metadata": {
        "id": "TIGL_AJXXYhK"
      },
      "source": [
        "## 3. Preprocessing sentences for tokenization with BERT"
      ]
    },
    {
      "cell_type": "markdown",
      "metadata": {},
      "source": [
        "### 3.1 Prepare dataset for tokenization"
      ]
    },
    {
      "cell_type": "markdown",
      "metadata": {},
      "source": [
        "Many of the folling steps take a guidance from https://www.depends-on-the-definition.com/named-entity-recognition-with-bert/"
      ]
    },
    {
      "cell_type": "code",
      "execution_count": 461,
      "metadata": {
        "id": "_ZHYbhZX5Iw_"
      },
      "outputs": [],
      "source": [
        "# Generator that takes out dataframe an delivers sentences as word/tag-pairs\n",
        "class GetSentence(object):\n",
        "    def __init__(self, data):\n",
        "        self.n_sent = 1\n",
        "        self.data = data\n",
        "        self.empty = False\n",
        "        word_tag_pair = lambda x: [(word, tag) for word, tag in zip(x.word.values.tolist(), x.tag.values.tolist())]\n",
        "        self.grouped = self.data.groupby('running_text').apply(word_tag_pair)\n",
        "        self.sentences = [sentence for sentence in self.grouped]\n",
        "\n",
        "    def get_next(self):\n",
        "        try:\n",
        "            sentence = self.grouped[f\"{self.n_sent}\"]\n",
        "            self.n_sent += 1\n",
        "            return sentence\n",
        "        except:\n",
        "            return None\n"
      ]
    },
    {
      "cell_type": "code",
      "execution_count": 216,
      "metadata": {
        "id": "aNl7E8UcYoNz"
      },
      "outputs": [],
      "source": [
        "iterator = GetSentence(data)"
      ]
    },
    {
      "cell_type": "code",
      "execution_count": 217,
      "metadata": {
        "colab": {
          "base_uri": "https://localhost:8080/"
        },
        "id": "sPRSyeVNmtXI",
        "outputId": "ed3f4d8d-b3e6-4643-ce2b-ed682320600e"
      },
      "outputs": [
        {
          "data": {
            "text/plain": [
              "running_text\n",
              "0    [((, O), (Veräußerung, O), (von, O), (Anteilen...\n",
              "1    [(), O), (1., O), (Auf, O), (der, O), (Ebene, ...\n",
              "2    [(., O), (2., O), (Die, O), (rein, O), (gesell...\n",
              "dtype: object"
            ]
          },
          "execution_count": 217,
          "metadata": {},
          "output_type": "execute_result"
        }
      ],
      "source": [
        "iterator.grouped[:3]"
      ]
    },
    {
      "cell_type": "code",
      "execution_count": 218,
      "metadata": {
        "colab": {
          "base_uri": "https://localhost:8080/"
        },
        "id": "nYbQ4nRdoQOg",
        "outputId": "7575127d-24b0-40cc-a955-ea338fe4e8dd"
      },
      "outputs": [
        {
          "data": {
            "text/plain": [
              "[[('(', 'O'),\n",
              "  ('Veräußerung', 'O'),\n",
              "  ('von', 'O'),\n",
              "  ('Anteilen', 'O'),\n",
              "  ('an', 'O'),\n",
              "  ('Kapitalgesellschaften', 'O'),\n",
              "  ('(', 'O'),\n",
              "  ('§', 'B-GS'),\n",
              "  ('17', 'I-GS'),\n",
              "  ('Abs.', 'I-GS'),\n",
              "  ('1', 'I-GS'),\n",
              "  ('und', 'I-GS'),\n",
              "  ('2', 'I-GS'),\n",
              "  ('EStG', 'I-GS'),\n",
              "  (')', 'O'),\n",
              "  ('-', 'O'),\n",
              "  ('Erwerb', 'O'),\n",
              "  ('eigener', 'O'),\n",
              "  ('Anteile', 'O'),\n",
              "  ('durch', 'O'),\n",
              "  ('die', 'O'),\n",
              "  ('GmbH', 'O'),\n",
              "  ('-', 'O'),\n",
              "  ('Rechtslage', 'O'),\n",
              "  ('nach', 'O'),\n",
              "  ('BilMoG', 'B-GS'),\n",
              "  ('-', 'O'),\n",
              "  ('Steuerliche', 'O'),\n",
              "  ('Auswirkungen', 'O'),\n",
              "  ('der', 'O'),\n",
              "  ('Einfügung', 'O'),\n",
              "  ('des', 'O'),\n",
              "  ('§', 'B-GS'),\n",
              "  ('272', 'I-GS'),\n",
              "  ('Abs.', 'I-GS'),\n",
              "  ('1a', 'I-GS'),\n",
              "  ('und', 'I-GS'),\n",
              "  ('1b', 'I-GS'),\n",
              "  ('HGB', 'I-GS'),\n",
              "  ('durch', 'O'),\n",
              "  ('das', 'O'),\n",
              "  ('BilMoG', 'B-GS'),\n",
              "  ('auf', 'O'),\n",
              "  ('der', 'O'),\n",
              "  ('Ebene', 'O'),\n",
              "  ('des', 'O'),\n",
              "  ('Gesellschafters', 'O'),\n",
              "  ('-', 'O'),\n",
              "  ('Thesaurierter', 'O'),\n",
              "  ('Gewinn', 'O'),\n",
              "  ('als', 'O'),\n",
              "  ('preisbildender', 'O'),\n",
              "  ('Bestandteil', 'O'),\n",
              "  ('des', 'O'),\n",
              "  ('veräußerten', 'O'),\n",
              "  ('Geschäftsanteils', 'O'),\n",
              "  ('-', 'O'),\n",
              "  ('Bildung', 'O'),\n",
              "  ('einer', 'O'),\n",
              "  ('Rücklage', 'O'),\n",
              "  ('zum', 'O'),\n",
              "  ('Erwerb', 'O'),\n",
              "  ('eigener', 'O'),\n",
              "  ('Anteile', 'O'),\n",
              "  (')', 'O')],\n",
              " [(')', 'O'),\n",
              "  ('1.', 'O'),\n",
              "  ('Auf', 'O'),\n",
              "  ('der', 'O'),\n",
              "  ('Ebene', 'O'),\n",
              "  ('des', 'O'),\n",
              "  ('veräußernden', 'O'),\n",
              "  ('Gesellschafters', 'O'),\n",
              "  ('stellt', 'O'),\n",
              "  ('der', 'O'),\n",
              "  ('entgeltliche', 'O'),\n",
              "  ('Erwerb', 'O'),\n",
              "  ('eigener', 'O'),\n",
              "  ('Anteile', 'O'),\n",
              "  ('durch', 'O'),\n",
              "  ('die', 'O'),\n",
              "  ('GmbH', 'O'),\n",
              "  ('ein', 'O'),\n",
              "  ('Veräußerungsgeschäft', 'O'),\n",
              "  ('i.', 'O'),\n",
              "  ('S.', 'O'),\n",
              "  ('des', 'O'),\n",
              "  ('§', 'B-GS'),\n",
              "  ('17', 'I-GS'),\n",
              "  ('Abs.', 'I-GS'),\n",
              "  ('1', 'I-GS'),\n",
              "  ('EStG', 'I-GS'),\n",
              "  ('dar', 'O'),\n",
              "  ('(', 'O'),\n",
              "  ('Bestätigung', 'O'),\n",
              "  ('des', 'O'),\n",
              "  ('BMF-Schreibens', 'B-VS'),\n",
              "  ('vom', 'I-VS'),\n",
              "  ('27.', 'I-VS'),\n",
              "  ('November', 'I-VS'),\n",
              "  ('2013', 'I-VS'),\n",
              "  (',', 'I-VS'),\n",
              "  ('BStBl', 'I-VS'),\n",
              "  ('I', 'I-VS'),\n",
              "  ('2013', 'I-VS'),\n",
              "  (',', 'I-VS'),\n",
              "  ('1615', 'I-VS'),\n",
              "  (',', 'I-VS'),\n",
              "  ('Rz', 'I-VS'),\n",
              "  ('20', 'I-VS'),\n",
              "  ('Satz', 'I-VS'),\n",
              "  ('1', 'I-VS'),\n",
              "  (')', 'O'),\n",
              "  ('.', 'O')],\n",
              " [('.', 'O'),\n",
              "  ('2.', 'O'),\n",
              "  ('Die', 'O'),\n",
              "  ('rein', 'O'),\n",
              "  ('gesellschaftsintern', 'O'),\n",
              "  ('wirkende', 'O'),\n",
              "  ('Umgliederung', 'O'),\n",
              "  ('einer', 'O'),\n",
              "  ('freien', 'O'),\n",
              "  ('Gewinnrücklage', 'O'),\n",
              "  ('in', 'O'),\n",
              "  ('eine', 'O'),\n",
              "  ('zweckgebundene', 'O'),\n",
              "  ('Rücklage', 'O'),\n",
              "  ('führt', 'O'),\n",
              "  ('nicht', 'O'),\n",
              "  ('zu', 'O'),\n",
              "  ('nachträglichen', 'O'),\n",
              "  ('Anschaffungskosten', 'O'),\n",
              "  ('auf', 'O'),\n",
              "  ('den', 'O'),\n",
              "  ('Geschäftsanteil', 'O'),\n",
              "  ('des', 'O'),\n",
              "  ('veräußernden', 'O'),\n",
              "  ('Gesellschafters', 'O'),\n",
              "  ('.', 'O')]]"
            ]
          },
          "execution_count": 218,
          "metadata": {},
          "output_type": "execute_result"
        }
      ],
      "source": [
        "iterator.sentences[:3]"
      ]
    },
    {
      "cell_type": "markdown",
      "metadata": {
        "id": "JQKHmMYipgbT"
      },
      "source": [
        "### 3.2 Tokenize sentences and prepare data for training"
      ]
    },
    {
      "cell_type": "code",
      "execution_count": 47,
      "metadata": {
        "colab": {
          "base_uri": "https://localhost:8080/",
          "height": 145,
          "referenced_widgets": [
            "6932afe41ce649be991e5580cbd26b55",
            "ddf278a49e9b4543a13b8ac31230aa6c",
            "3673bf9751564cb1b01d5edce68117f1",
            "0f4af022b270447998f42803f835db19",
            "c09328fa4bad48499412a90d200638ab",
            "dad35dfdbae5427abb9bc768253efd34",
            "316c73651fe74c86be849be12411b2e4",
            "c2c47f11133c4e6f9641ae1c85fcf4c6",
            "779acda57be643019d313f9c114a358e",
            "62d7c1c43cd24679bc10a1bfc7d224ec",
            "3c6d227ab65f4417bbd71499ef854e82",
            "3a14981ceeb846a091e4a55c4fb4ed74",
            "52cd69dcbf0d42b7a64b594752bac2d1",
            "5424392fed8143c98c7356b7998d76c8",
            "a85283116e204dc8b1685b72e30846ee",
            "4f1efd2ae9b5406bb9fdade8b3ca7634",
            "8bec3c097ad54e1e89fd16d121f52abe",
            "0db643fb8a5d4e7b8297238419b7a9d0",
            "5cb4db03d56544fe8c53e7abb8d04597",
            "d2e3739775a74a33b47b9936b2ce0397",
            "269a8afc87d44900910804f057e0783f",
            "19a486df0b7c4a05aa3af41171c4d95a",
            "1682c74d61004c74b702a1cbb10e8148",
            "dac83ce0ff90487daa58f66f21ca8bed",
            "c90d8f171d7e437ab363e5a58cf55d7f",
            "f924f6cee6034752bfd681ffabeafe9c",
            "c3f1192b24d04b4e8ade94e3dc20c89f",
            "e799050a0af64e0e890b8a6229931bf7",
            "647e8cead5de40be8db5b38761ebfcc5",
            "fce03db459a04db7b2005d23ae08a40b",
            "5507ed704f7d4398ad9471fe55757997",
            "94c34972e69042d2bd79e7f69fde59db",
            "392d24c775574959ae5e053370c99c70",
            "79f0fd119e2d488da5f9b86ef5839669",
            "9cb4fa5f4839474f97d04e7f60d790f0",
            "64f67a4cd8754631aa0d426552ce8452",
            "13680c83c5a54d6b94ec13dddbd80fca",
            "62db2074b78849919568ebd127702b71",
            "b3dbddbb9407439b9e74b1ce0bc123a1",
            "7c0c331598ae44d0a4df81af1bc3af81",
            "f081f80a52964de3a1d3d3a30b6fef12",
            "83821fa094e8457084a837dd75685c8a",
            "0df8bcd609f04f1eb8692846e42c60a7",
            "fa6727db806d4af19571bc95a6b8e384"
          ]
        },
        "id": "cvtm8-PheNe2",
        "outputId": "b5769a99-83a1-407a-a05a-960fdcad0e98"
      },
      "outputs": [],
      "source": [
        "#tokenizer = BertTokenizer.from_pretrained('bert-base-german-cased')\n",
        "tokenizer = AutoTokenizer.from_pretrained(MODEL_NAME)"
      ]
    },
    {
      "cell_type": "markdown",
      "metadata": {
        "id": "e9ufnLXlNWhZ"
      },
      "source": [
        "We separate our word-tag tuples and attach the special tokens to the resulting lists."
      ]
    },
    {
      "cell_type": "code",
      "execution_count": 219,
      "metadata": {
        "id": "l7f3smrBZrAP"
      },
      "outputs": [],
      "source": [
        "# list all sentences as wordlists and append special tokens\n",
        "sentences_wordlists = [[item[0] for item in sentence] for sentence in iterator.sentences]\n",
        "for sentence in sentences_wordlists:\n",
        "  sentence.append('[SEP]')\n",
        "  sentence.insert(0, '[CLS]')"
      ]
    },
    {
      "cell_type": "code",
      "execution_count": 220,
      "metadata": {
        "id": "NqPAO1RN5jo_"
      },
      "outputs": [],
      "source": [
        "# list lists of tags for all sentences and append 'O' for 'no annotation'\n",
        "sentences_tagslists = [[item[1] for item in sentence] for sentence in iterator.sentences]\n",
        "for tagslist in sentences_tagslists:\n",
        "  tagslist.append('O')\n",
        "  tagslist.insert(0, 'O')"
      ]
    },
    {
      "cell_type": "markdown",
      "metadata": {},
      "source": [
        "Du to limited resources, data are trained on a subset of the data. A new dataframe is shuffled before we re-extract separated lists of lists of words and tags."
      ]
    },
    {
      "cell_type": "code",
      "execution_count": 462,
      "metadata": {
        "id": "wKdLrzFKT1WB"
      },
      "outputs": [],
      "source": [
        "df = pd.DataFrame({'sentence': sentences_wordlists, 'tag': sentences_tagslists})\n",
        "df_shuffled = df.sample(frac=1)\n",
        "df = df_shuffled.reset_index(drop=True)[:8000]\n",
        "train_sentences = df.sentence.values.tolist()\n",
        "train_labels = df.tag.values.tolist()"
      ]
    },
    {
      "cell_type": "markdown",
      "metadata": {
        "id": "17Vav4GzMQ1u"
      },
      "source": [
        "Tokenization by BERT creates subwords from unfamiliar words. These subwords should receive the same tag."
      ]
    },
    {
      "cell_type": "code",
      "execution_count": 463,
      "metadata": {
        "id": "e7qBa856bhM0"
      },
      "outputs": [],
      "source": [
        "def bert_tokenize(sentence, wordtags):\n",
        "  '''\n",
        "  Function to apply the tokenizer to the words in our sentences.\n",
        "  It multiplies the word-tags by the subword length to receive matching labels for all subwords that\n",
        "  result from tokenization\n",
        "  returns two lists: a list of lists of tokenized sentences and a list of lists of mapping labels\n",
        "  '''\n",
        "  \n",
        "  tokenized_sentences = []\n",
        "  tags = []\n",
        "  for word, tag in zip(sentence, wordtags):\n",
        "    # apply tokenized to words\n",
        "    tokenized_word = tokenizer.tokenize(word)\n",
        "    n_subwords = len(tokenized_word)\n",
        "    tokenized_sentences.extend(tokenized_word)\n",
        "    # multiply tag by length of subwordlist\n",
        "    tags.extend([tag]*n_subwords)\n",
        "\n",
        "  return tokenized_sentences, tags"
      ]
    },
    {
      "cell_type": "code",
      "execution_count": 225,
      "metadata": {
        "colab": {
          "base_uri": "https://localhost:8080/"
        },
        "id": "5J-uK4dQPwun",
        "outputId": "2f2d9714-54fa-43ef-ec45-f1445ac1de85"
      },
      "outputs": [],
      "source": [
        "sentence_tags_pairs_tokenized = [bert_tokenize(words,tags) for words,tags in zip(train_sentences, train_labels)]"
      ]
    },
    {
      "cell_type": "markdown",
      "metadata": {
        "id": "1YNdn6Pib-UJ"
      },
      "source": [
        "Check tokenized sentences and labels"
      ]
    },
    {
      "cell_type": "code",
      "execution_count": 226,
      "metadata": {
        "id": "7fNbXXBQUk6y"
      },
      "outputs": [],
      "source": [
        "sentences_tokenized = [pair[0] for pair in sentence_tags_pairs_tokenized]\n",
        "labels = [pair[1] for pair in sentence_tags_pairs_tokenized]"
      ]
    },
    {
      "cell_type": "code",
      "execution_count": 227,
      "metadata": {},
      "outputs": [
        {
          "data": {
            "text/plain": [
              "['[CLS]',\n",
              " '.',\n",
              " 'Ein',\n",
              " 'online',\n",
              " '-',\n",
              " 'ch',\n",
              " '##at',\n",
              " '-',\n",
              " 'Verfahren',\n",
              " 'zur',\n",
              " 'Durchführung',\n",
              " 'der',\n",
              " 'mündlichen',\n",
              " 'Verhandlung',\n",
              " 'über',\n",
              " 'mehrere',\n",
              " 'Wochen',\n",
              " 'ergibt',\n",
              " 'sich',\n",
              " 'weder',\n",
              " 'aus',\n",
              " 'Art',\n",
              " '13',\n",
              " 'UN',\n",
              " '-',\n",
              " 'BR',\n",
              " '##K',\n",
              " ',',\n",
              " 'der',\n",
              " 'die',\n",
              " 'Vertrags',\n",
              " '##staaten',\n",
              " 'verpflichtet',\n",
              " ',',\n",
              " 'einen',\n",
              " 'gleich',\n",
              " '##berechtigten',\n",
              " 'wirksamen',\n",
              " 'Zugang',\n",
              " 'zur',\n",
              " 'Justiz',\n",
              " 'zu',\n",
              " 'gewährleisten',\n",
              " 'noch',\n",
              " 'aus',\n",
              " 'den',\n",
              " 'o',\n",
              " '##g',\n",
              " 'Verfahrens',\n",
              " '##vorschriften',\n",
              " '.',\n",
              " '[SEP]']"
            ]
          },
          "execution_count": 227,
          "metadata": {},
          "output_type": "execute_result"
        }
      ],
      "source": [
        "sentences_tokenized[0]"
      ]
    },
    {
      "cell_type": "code",
      "execution_count": 228,
      "metadata": {},
      "outputs": [
        {
          "data": {
            "text/plain": [
              "['O',\n",
              " 'O',\n",
              " 'O',\n",
              " 'O',\n",
              " 'O',\n",
              " 'O',\n",
              " 'O',\n",
              " 'O',\n",
              " 'O',\n",
              " 'O',\n",
              " 'O',\n",
              " 'O',\n",
              " 'O',\n",
              " 'O',\n",
              " 'O',\n",
              " 'O',\n",
              " 'O',\n",
              " 'O',\n",
              " 'O',\n",
              " 'O',\n",
              " 'O',\n",
              " 'B-EUN',\n",
              " 'I-EUN',\n",
              " 'I-EUN',\n",
              " 'I-EUN',\n",
              " 'I-EUN',\n",
              " 'I-EUN',\n",
              " 'O',\n",
              " 'O',\n",
              " 'O',\n",
              " 'O',\n",
              " 'O',\n",
              " 'O',\n",
              " 'O',\n",
              " 'O',\n",
              " 'O',\n",
              " 'O',\n",
              " 'O',\n",
              " 'O',\n",
              " 'O',\n",
              " 'O',\n",
              " 'O',\n",
              " 'O',\n",
              " 'O',\n",
              " 'O',\n",
              " 'O',\n",
              " 'O',\n",
              " 'O',\n",
              " 'O',\n",
              " 'O',\n",
              " 'O',\n",
              " 'O']"
            ]
          },
          "execution_count": 228,
          "metadata": {},
          "output_type": "execute_result"
        }
      ],
      "source": [
        "labels[0]"
      ]
    },
    {
      "cell_type": "markdown",
      "metadata": {
        "id": "t5NBMoK0wD8C"
      },
      "source": [
        "### 3.3 Input ids, padding and attention masks\n",
        "\n",
        "To get our data in shape as inputs to a BERT model, we need to pad our data and build attention masks."
      ]
    },
    {
      "cell_type": "code",
      "execution_count": 464,
      "metadata": {
        "id": "Pey3DCCYycbn"
      },
      "outputs": [],
      "source": [
        "# list the unique tags from the tag-column\n",
        "tag_values = list(set(data['tag'].values))\n",
        "tag_values.append('PAD')\n",
        "# create dictionary for tags and their index values in tag_values\n",
        "tag2idx = {t: i for i, t in enumerate(tag_values)}"
      ]
    },
    {
      "cell_type": "code",
      "execution_count": 230,
      "metadata": {
        "id": "kYMV3sQAwvxQ"
      },
      "outputs": [],
      "source": [
        "input_ids = pad_sequences([tokenizer.convert_tokens_to_ids(sentence) for sentence in sentences_tokenized],\n",
        "                          maxlen=MAX_LEN,\n",
        "                          dtype='long',\n",
        "                          value=0.0,\n",
        "                          truncating=\"post\",\n",
        "                          padding=\"post\")"
      ]
    },
    {
      "cell_type": "markdown",
      "metadata": {},
      "source": [
        "'[CLS]' and '[SEP]' get included as 3 and 4"
      ]
    },
    {
      "cell_type": "code",
      "execution_count": 231,
      "metadata": {
        "colab": {
          "base_uri": "https://localhost:8080/"
        },
        "id": "4SoldvFZM1PO",
        "outputId": "4be78df0-a04e-4202-f2a7-a337f776398a"
      },
      "outputs": [
        {
          "data": {
            "text/plain": [
              "array([    3, 26914,   198, 15141, 26935,  1985,    43, 26935,  2259,\n",
              "         252,  6087,    21,  5350,  4097,   204,  2071,  2124,  3061,\n",
              "         144,  3175,   147,   750,   857,  5931, 26935, 11869, 26932,\n",
              "       26918,    21,    30,  4864,  4664,  3983, 26918,   303,   911,\n",
              "        9927, 22279,  5963,   252,  5671,    81, 13146,   357,   147,\n",
              "          86,   170, 26908,  3040,  8579, 26914,     4,     0,     0,\n",
              "           0,     0,     0,     0,     0,     0,     0,     0,     0,\n",
              "           0,     0,     0,     0,     0,     0,     0,     0,     0,\n",
              "           0,     0,     0])"
            ]
          },
          "execution_count": 231,
          "metadata": {},
          "output_type": "execute_result"
        }
      ],
      "source": [
        "input_ids[0]"
      ]
    },
    {
      "cell_type": "code",
      "execution_count": 232,
      "metadata": {
        "id": "z2dT6q0h2AjQ"
      },
      "outputs": [],
      "source": [
        "tags = pad_sequences([[tag2idx.get(l) for l in lab] for lab in labels],\n",
        "                     maxlen=MAX_LEN,\n",
        "                     value=tag2idx[\"PAD\"],\n",
        "                     padding=\"post\",\n",
        "                     dtype=\"long\",\n",
        "                     truncating=\"post\")"
      ]
    },
    {
      "cell_type": "code",
      "execution_count": 233,
      "metadata": {
        "id": "ejMxKJCmemHX"
      },
      "outputs": [],
      "source": [
        "attention_masks = [[float(i != 0.0) for i in ii] for ii in input_ids]\n",
        "attention_masks = np.array(attention_masks)"
      ]
    },
    {
      "cell_type": "markdown",
      "metadata": {},
      "source": [
        "### 3.4 Train-test-splits, tensor datasets, data loaders"
      ]
    },
    {
      "cell_type": "code",
      "execution_count": 234,
      "metadata": {
        "id": "Imf-VYrqfEvf"
      },
      "outputs": [],
      "source": [
        "tr_inputs, val_inputs, tr_tags, val_tags = train_test_split(input_ids, tags,\n",
        "                                                            random_state=0,\n",
        "                                                            test_size=0.1)\n",
        "tr_masks, val_masks, _, _ = train_test_split(attention_masks, input_ids,\n",
        "                                             random_state=0,\n",
        "                                             test_size=0.1)\n"
      ]
    },
    {
      "cell_type": "code",
      "execution_count": 235,
      "metadata": {
        "id": "dCjK7mzagUjU"
      },
      "outputs": [],
      "source": [
        "# transform train data from arrays to tensors\n",
        "tr_inputs = torch.tensor(tr_inputs)\n",
        "tr_tags = torch.tensor(tr_tags)\n",
        "tr_masks = torch.tensor(tr_masks)\n",
        "\n",
        "# transform validation data from arrays to tensors\n",
        "val_inputs = torch.tensor(val_inputs)\n",
        "val_tags = torch.tensor(val_tags)\n",
        "val_masks = torch.tensor(val_masks)"
      ]
    },
    {
      "cell_type": "code",
      "execution_count": 236,
      "metadata": {
        "id": "SdsDAEtTfQZt"
      },
      "outputs": [],
      "source": [
        "# create tensor dataset, data loader and sequential sampler objects\n",
        "\n",
        "train_data = TensorDataset(tr_inputs, tr_masks, tr_tags)\n",
        "train_sampler = RandomSampler(train_data)\n",
        "train_dataloader = DataLoader(train_data, sampler=train_sampler, batch_size=BATCH_SIZE)\n",
        "\n",
        "valid_data = TensorDataset(val_inputs, val_masks, val_tags)\n",
        "valid_sampler = SequentialSampler(valid_data)\n",
        "valid_dataloader = DataLoader(valid_data, sampler=valid_sampler, batch_size=BATCH_SIZE)"
      ]
    },
    {
      "cell_type": "markdown",
      "metadata": {},
      "source": [
        "## 4. Define and train model"
      ]
    },
    {
      "cell_type": "markdown",
      "metadata": {},
      "source": [
        "### 4.1 Choose model and set training parameters"
      ]
    },
    {
      "cell_type": "code",
      "execution_count": null,
      "metadata": {
        "id": "o4DDXJR6IL4M"
      },
      "outputs": [],
      "source": [
        "MODEL_NAME = 'bert-base-german-cased'\n",
        "#tokenizer = BertTokenizer.from_pretrained(MODEL_NAME)\n",
        "tokenizer = AutoTokenizer.from_pretrained(MODEL_NAME)"
      ]
    },
    {
      "cell_type": "code",
      "execution_count": null,
      "metadata": {
        "colab": {
          "base_uri": "https://localhost:8080/",
          "height": 154,
          "referenced_widgets": [
            "1dfdfab7214245609d04c3a7fb85c5c2",
            "69b6d67e88c0482795e38362ece41382",
            "90221ef3de3c4eb7b2e26ac2fd13aee9",
            "0317eb8207d64427a6741db008d5db52",
            "17bc8d84d1644ac1b03535a9701960e6",
            "503b7f4aa9ea40cfb16a2b9f5d4498ae",
            "4853b9b6cb7247c3827e63495d08cf90",
            "794a691eb9244851bd6f89c25b93fee9",
            "00d48c7b906748b4af8303214dbe0643",
            "3f55bbf0614e468c918daabac89aa6a6",
            "3821542b7ece4baf843097815c293d22"
          ]
        },
        "id": "a9zShRPgqooi",
        "outputId": "3b2adf7c-7c0a-45ec-cc65-e50cf94a7061"
      },
      "outputs": [],
      "source": [
        "model = BertForTokenClassification.from_pretrained(\n",
        "    MODEL_NAME,\n",
        "    num_labels=len(tag2idx),\n",
        "    output_attentions = False,\n",
        "    output_hidden_states = False)"
      ]
    },
    {
      "cell_type": "code",
      "execution_count": 465,
      "metadata": {
        "id": "yh4MFki0wCyF"
      },
      "outputs": [],
      "source": [
        "# parameters\n",
        "MAX_LEN = 75\n",
        "BATCH_SIZE = 32"
      ]
    },
    {
      "cell_type": "code",
      "execution_count": 238,
      "metadata": {
        "id": "WmONxxW4Osfd"
      },
      "outputs": [],
      "source": [
        "# use GPU if available\n",
        "device = torch.device(\"cuda\" if torch.cuda.is_available() else \"cpu\")\n",
        "n_gpu = torch.cuda.device_count()\n",
        "#torch.cuda.get_device_name(0)\n",
        "# pass model parameters to GPU\n",
        "#model.cuda();"
      ]
    },
    {
      "cell_type": "code",
      "execution_count": 240,
      "metadata": {
        "id": "CNi8sXF0qpjf"
      },
      "outputs": [],
      "source": [
        "# specify paramaters the optimizer should update\n",
        "\n",
        "FULL_FINETUNING = True\n",
        "if FULL_FINETUNING:\n",
        "    param_optimizer = list(model.named_parameters())\n",
        "    no_decay = ['bias', 'gamma', 'beta']\n",
        "    optimizer_grouped_parameters = [\n",
        "        {'params': [p for n, p in param_optimizer if not any(nd in n for nd in no_decay)],\n",
        "         'weight_decay_rate': 0.01},\n",
        "        {'params': [p for n, p in param_optimizer if any(nd in n for nd in no_decay)],\n",
        "         'weight_decay_rate': 0.0}\n",
        "        ]\n",
        "else:\n",
        "    param_optimizer = list(model.classifier.named_parameters())\n",
        "    optimizer_grouped_parameters = [{\"params\": [p for n, p in param_optimizer]}]"
      ]
    },
    {
      "cell_type": "code",
      "execution_count": 478,
      "metadata": {
        "id": "iFONuvwMqpoM"
      },
      "outputs": [],
      "source": [
        "EPOCHS = 3\n",
        "MAX_GRAD_NORM = 1.0\n",
        "\n",
        "# Total number of training steps is number of batches * number of epochs\n",
        "total_steps = len(train_dataloader) * EPOCHS\n",
        "\n",
        "# Choose optimizer\n",
        "optimizer = AdamW(\n",
        "    optimizer_grouped_parameters,\n",
        "    lr=3e-5,\n",
        "    eps=1e-8\n",
        "    )\n",
        "\n",
        "# Create the learning rate scheduler\n",
        "scheduler = get_linear_schedule_with_warmup(\n",
        "    optimizer,\n",
        "    num_warmup_steps=0,\n",
        "    num_training_steps=total_steps\n",
        "    )"
      ]
    },
    {
      "cell_type": "markdown",
      "metadata": {},
      "source": [
        "### 4.2 Train model"
      ]
    },
    {
      "cell_type": "code",
      "execution_count": 242,
      "metadata": {
        "colab": {
          "base_uri": "https://localhost:8080/"
        },
        "id": "A0J15yYgNHx5",
        "outputId": "7396d21c-f6b2-4183-a770-47736a22a2e1"
      },
      "outputs": [
        {
          "name": "stderr",
          "output_type": "stream",
          "text": [
            "Epoch:   0%|          | 0/3 [00:00<?, ?it/s]"
          ]
        },
        {
          "name": "stdout",
          "output_type": "stream",
          "text": [
            "Average train loss: 0.23019281814081802\n",
            "\n"
          ]
        },
        {
          "name": "stderr",
          "output_type": "stream",
          "text": [
            "Epoch:  33%|███▎      | 1/3 [51:00<1:42:01, 3060.89s/it]"
          ]
        },
        {
          "name": "stdout",
          "output_type": "stream",
          "text": [
            "Validation loss: 0.08455220215022564\n",
            "Validation accuracy:\t0.97692\n",
            "Validation precision:\t0.61279\n",
            "Validation recall:\t0.70361\n",
            "Validation f1-score:\t0.65507\n",
            "\n",
            "Average train loss: 0.04758407977720102\n",
            "\n"
          ]
        },
        {
          "name": "stderr",
          "output_type": "stream",
          "text": [
            "Epoch:  67%|██████▋   | 2/3 [1:43:47<52:03, 3123.28s/it]"
          ]
        },
        {
          "name": "stdout",
          "output_type": "stream",
          "text": [
            "Validation loss: 0.061358662713319065\n",
            "Validation accuracy:\t0.98352\n",
            "Validation precision:\t0.75982\n",
            "Validation recall:\t0.72484\n",
            "Validation f1-score:\t0.74192\n",
            "\n",
            "Average train loss: 0.02255226449109614\n",
            "\n"
          ]
        },
        {
          "name": "stderr",
          "output_type": "stream",
          "text": [
            "Epoch: 100%|██████████| 3/3 [4:17:31<00:00, 5150.63s/it]"
          ]
        },
        {
          "name": "stdout",
          "output_type": "stream",
          "text": [
            "Validation loss: 0.06048117569182068\n",
            "Validation accuracy:\t0.98651\n",
            "Validation precision:\t0.80808\n",
            "Validation recall:\t0.77922\n",
            "Validation f1-score:\t0.79339\n",
            "\n"
          ]
        },
        {
          "name": "stderr",
          "output_type": "stream",
          "text": [
            "\n"
          ]
        }
      ],
      "source": [
        "# Store the average loss after each epoch so we can plot them.\n",
        "loss_values, validation_loss_values = [], []\n",
        "\n",
        "for _ in trange(EPOCHS, desc=\"Epoch\"):\n",
        "    # ========================================\n",
        "    #               Training\n",
        "    # ========================================\n",
        "    # Perform one full pass over the training set.\n",
        "\n",
        "    # Put the model into training mode.\n",
        "    model.train()\n",
        "    # Reset the total loss for this epoch.\n",
        "    total_loss = 0\n",
        "\n",
        "    # Training loop\n",
        "    for step, batch in enumerate(train_dataloader):\n",
        "        # add batch to gpu\n",
        "        batch = tuple(t.to(device) for t in batch)\n",
        "        b_input_ids, b_input_mask, b_labels = batch\n",
        "        # Always clear any previously calculated gradients before performing a backward pass.\n",
        "        model.zero_grad()\n",
        "        # forward pass\n",
        "        # This will return the loss (rather than the model output)\n",
        "        # because we have provided the `labels`.\n",
        "        outputs = model(b_input_ids, token_type_ids=None,\n",
        "                        attention_mask=b_input_mask, labels=b_labels)\n",
        "        # get the loss\n",
        "        loss = outputs[0]\n",
        "        # Perform a backward pass to calculate the gradients.\n",
        "        loss.backward()\n",
        "        # track train loss\n",
        "        total_loss += loss.item()\n",
        "        # Clip the norm of the gradient\n",
        "        # This is to help prevent the \"exploding gradients\" problem.\n",
        "        torch.nn.utils.clip_grad_norm_(parameters=model.parameters(), max_norm=MAX_GRAD_NORM)\n",
        "        # update parameters\n",
        "        optimizer.step()\n",
        "        # Update the learning rate.\n",
        "        scheduler.step()\n",
        "\n",
        "    # Calculate the average loss over the training data.\n",
        "    avg_train_loss = total_loss / len(train_dataloader)\n",
        "    print(\"Average train loss: {}\\n\".format(avg_train_loss))\n",
        "\n",
        "    # Store the loss value for plotting the learning curve.\n",
        "    loss_values.append(avg_train_loss)\n",
        "\n",
        "\n",
        "    # ========================================\n",
        "    #               Validation\n",
        "    # ========================================\n",
        "    # After the completion of each training epoch, measure our performance on\n",
        "    # our validation set.\n",
        "\n",
        "    # Put the model into evaluation mode\n",
        "    model.eval()\n",
        "    # Reset the validation loss for this epoch.\n",
        "    eval_loss, eval_accuracy = 0, 0\n",
        "    nb_eval_steps, nb_eval_examples = 0, 0\n",
        "    predictions , true_labels = [], []\n",
        "    for batch in valid_dataloader:\n",
        "        batch = tuple(t.to(device) for t in batch)\n",
        "        b_input_ids, b_input_mask, b_labels = batch\n",
        "\n",
        "        # Telling the model not to compute or store gradients,\n",
        "        # saving memory and speeding up validation\n",
        "        with torch.no_grad():\n",
        "            # Forward pass, calculate logit predictions.\n",
        "            # This will return the logits rather than the loss because we have not provided labels.\n",
        "            outputs = model(b_input_ids, token_type_ids=None,\n",
        "                            attention_mask=b_input_mask, labels=b_labels)\n",
        "        # Move logits and labels to CPU\n",
        "        logits = outputs[1].detach().cpu().numpy()\n",
        "        label_ids = b_labels.to('cpu').numpy()\n",
        "\n",
        "        # Calculate the accuracy for this batch of test sentences.\n",
        "        eval_loss += outputs[0].mean().item()\n",
        "        predictions.extend([list(p) for p in np.argmax(logits, axis=2)])\n",
        "        true_labels.extend(label_ids)\n",
        "\n",
        "    eval_loss = eval_loss / len(valid_dataloader)\n",
        "    validation_loss_values.append(eval_loss)\n",
        "    print(\"Validation loss: {}\".format(eval_loss))\n",
        "    pred_tags = [[tag_values[p_i] for p, l in zip(predictions, true_labels)\n",
        "                                 for p_i, l_i in zip(p, l) if tag_values[l_i] != \"PAD\"]]\n",
        "    valid_tags = [[tag_values[l_i] for l in true_labels\n",
        "                                  for l_i in l if tag_values[l_i] != \"PAD\"]]\n",
        "    \n",
        "    print('Validation accuracy:\\t{:.5f}'.format(accuracy_score(pred_tags, valid_tags)))\n",
        "    print('Validation precision:\\t{:.5f}'.format(precision_score(pred_tags, valid_tags)))\n",
        "    print('Validation recall:\\t{:.5f}'.format(recall_score(pred_tags, valid_tags)))\n",
        "    print('Validation f1-score:\\t{:.5f}'.format(f1_score(pred_tags, valid_tags)))\n",
        "\n",
        "    print()"
      ]
    },
    {
      "cell_type": "markdown",
      "metadata": {},
      "source": [
        "Save the model for later use in the app."
      ]
    },
    {
      "cell_type": "code",
      "execution_count": 399,
      "metadata": {},
      "outputs": [],
      "source": [
        "torch.save(model.state_dict(), 'LegalBERTmodel')"
      ]
    },
    {
      "cell_type": "markdown",
      "metadata": {},
      "source": [
        "### 4.3 Loss, classification report"
      ]
    },
    {
      "cell_type": "markdown",
      "metadata": {},
      "source": [
        "Print a loss curve based on the training and validation losses of each epoch."
      ]
    },
    {
      "cell_type": "code",
      "execution_count": 407,
      "metadata": {
        "colab": {
          "base_uri": "https://localhost:8080/",
          "height": 369
        },
        "id": "VfU7tY9cNH1a",
        "outputId": "d1c73d1c-62ea-4eeb-e526-b4dae219a9f7"
      },
      "outputs": [
        {
          "data": {
            "image/png": "[encoded data removed]",
            "text/plain": [
              "<Figure size 864x432 with 1 Axes>"
            ]
          },
          "metadata": {},
          "output_type": "display_data"
        }
      ],
      "source": [
        "sns.set(style='darkgrid')\n",
        "\n",
        "plt.rcParams[\"figure.figsize\"] = (12,6)\n",
        "\n",
        "plt.plot(loss_values, 'b', label=\"training loss\" )\n",
        "plt.plot(validation_loss_values, 'r', label=\"validation loss\")\n",
        "\n",
        "plt.title(\"Learning curve\")\n",
        "plt.xlabel(\"Epoch\")\n",
        "plt.ylabel(\"Loss\")\n",
        "plt.legend()\n",
        "\n",
        "plt.show()"
      ]
    },
    {
      "cell_type": "markdown",
      "metadata": {},
      "source": [
        "Precision, recall and f1-score for categories ('AN' missing, because due to class size, the model was not able to deliver any values for that class)"
      ]
    },
    {
      "cell_type": "code",
      "execution_count": 305,
      "metadata": {},
      "outputs": [
        {
          "name": "stdout",
          "output_type": "stream",
          "text": [
            "              precision    recall  f1-score   support\n",
            "\n",
            "         EUN       0.79      0.82      0.81        51\n",
            "         GRT       0.86      0.74      0.79        42\n",
            "          GS       0.92      0.92      0.92       296\n",
            "         INN       0.74      0.64      0.68        39\n",
            "          LD       0.46      0.67      0.55        18\n",
            "         LDS       0.00      0.00      0.00         1\n",
            "         LIT       0.70      0.78      0.74        80\n",
            "         MRK       1.00      0.36      0.53        11\n",
            "         ORG       0.44      0.51      0.47        41\n",
            "         PER       0.83      0.91      0.87        11\n",
            "          RR       0.91      0.94      0.92        32\n",
            "          RS       0.83      0.90      0.86       150\n",
            "          ST       0.57      1.00      0.72        13\n",
            "         STR       0.00      0.00      0.00         2\n",
            "          UN       0.38      0.53      0.44        19\n",
            "          VO       0.46      0.50      0.48        12\n",
            "          VS       0.09      0.06      0.07        17\n",
            "          VT       0.79      0.80      0.80        56\n",
            "\n",
            "   micro avg       0.78      0.81      0.79       891\n",
            "   macro avg       0.60      0.62      0.59       891\n",
            "weighted avg       0.78      0.81      0.79       891\n",
            "\n"
          ]
        },
        {
          "name": "stderr",
          "output_type": "stream",
          "text": [
            "/opt/homebrew/Caskroom/miniforge/base/envs/.venv/lib/python3.9/site-packages/seqeval/metrics/v1.py:57: UndefinedMetricWarning: Precision and F-score are ill-defined and being set to 0.0 in labels with no predicted samples. Use `zero_division` parameter to control this behavior.\n",
            "  _warn_prf(average, modifier, msg_start, len(result))\n"
          ]
        }
      ],
      "source": [
        "from seqeval.metrics import classification_report as crs\n",
        "print(crs(valid_tags, pred_tags))"
      ]
    },
    {
      "cell_type": "markdown",
      "metadata": {},
      "source": [
        "## 5. Comparison to results from Leitner, Rehm & Moreno-Schneider*\n",
        "\n",
        "The above model performs consistenly weaker in all measures compared to the CRF-F, CRF-FG and CRF-FGL as well as the BiLSTM-CRF BiLSTM-CRF+ and BiLSTM-CNN-CRF models trained by these authors.\n",
        "\n",
        "At the same time, they cannot be directly compared. The BERT model was trained and validated based only on a fraction of the data (on 8000 as opposed to the full dataset of 66723 sentences) due to computational resources. Looking at the performance of BERT-models in NER, working with the full dataset could be expected to beat the benchmark from 2019.\n",
        "\n",
        "Training the model to predict the coarse-grained labels might have given a better result.\n",
        "\n",
        "*Leitner E., Rehm G., Moreno-Schneider J. (2019) Fine-Grained Named Entity Recognition in Legal Documents. In: Acosta M., Cudré-Mauroux P., Maleshkova M., Pellegrini T., Sack H., Sure-Vetter Y. (eds) Semantic Systems. The Power of AI and Knowledge Graphs. SEMANTiCS 2019. Lecture Notes in Computer Science, vol 11702. Springer, Cham. https://doi.org/10.1007/978-3-030-33220-4_20"
      ]
    },
    {
      "cell_type": "markdown",
      "metadata": {},
      "source": [
        "## 6. Function to label new sentences\n",
        "\n",
        "This function tests new sentences. It shall be used in a demonstrator app in which user can have the model label sample sentence tokens."
      ]
    },
    {
      "cell_type": "code",
      "execution_count": 479,
      "metadata": {},
      "outputs": [],
      "source": [
        "def test_sentence(sentence):\n",
        "\n",
        "    '''\n",
        "    function to tokenize, encode an input sentence and predict labels\n",
        "    return df with the input and predicted labels\n",
        "    '''\n",
        "    \n",
        "    new_tokens, new_labels = [], []\n",
        "\n",
        "    tokenized_sentence = tokenizer.encode(sentence)\n",
        "    input_ids = torch.tensor([tokenized_sentence])\n",
        "\n",
        "    with torch.no_grad():\n",
        "        output = model(input_ids)\n",
        "    label_indices = np.argmax(output[0].to('cpu').numpy(), axis=2)\n",
        "\n",
        "    tokens = tokenizer.convert_ids_to_tokens(input_ids.to('cpu').numpy()[0])\n",
        "\n",
        "    for token, label_idx in zip(tokens, label_indices[0]):\n",
        "        if token.startswith(\"##\"):\n",
        "            new_tokens[-1] = new_tokens[-1] + token[2:]\n",
        "        else:\n",
        "            new_labels.append(tag_values[label_idx])\n",
        "            new_tokens.append(token)\n",
        "    for token, label in zip(new_tokens, new_labels):\n",
        "        df = pd.DataFrame({'Sentence': new_tokens, 'Label': new_labels})\n",
        "    \n",
        "    return df#.transpose()"
      ]
    },
    {
      "cell_type": "code",
      "execution_count": 474,
      "metadata": {},
      "outputs": [
        {
          "data": {
            "text/html": [
              "<div>\n",
              "<style scoped>\n",
              "    .dataframe tbody tr th:only-of-type {\n",
              "        vertical-align: middle;\n",
              "    }\n",
              "\n",
              "    .dataframe tbody tr th {\n",
              "        vertical-align: top;\n",
              "    }\n",
              "\n",
              "    .dataframe thead th {\n",
              "        text-align: right;\n",
              "    }\n",
              "</style>\n",
              "<table border=\"1\" class=\"dataframe\">\n",
              "  <thead>\n",
              "    <tr style=\"text-align: right;\">\n",
              "      <th></th>\n",
              "      <th>Sentence</th>\n",
              "      <th>Label</th>\n",
              "    </tr>\n",
              "  </thead>\n",
              "  <tbody>\n",
              "    <tr>\n",
              "      <th>0</th>\n",
              "      <td>[CLS]</td>\n",
              "      <td>O</td>\n",
              "    </tr>\n",
              "    <tr>\n",
              "      <th>1</th>\n",
              "      <td>Die</td>\n",
              "      <td>O</td>\n",
              "    </tr>\n",
              "    <tr>\n",
              "      <th>2</th>\n",
              "      <td>Taten</td>\n",
              "      <td>O</td>\n",
              "    </tr>\n",
              "    <tr>\n",
              "      <th>3</th>\n",
              "      <td>sind</td>\n",
              "      <td>O</td>\n",
              "    </tr>\n",
              "    <tr>\n",
              "      <th>4</th>\n",
              "      <td>nach</td>\n",
              "      <td>O</td>\n",
              "    </tr>\n",
              "    <tr>\n",
              "      <th>5</th>\n",
              "      <td>Art</td>\n",
              "      <td>O</td>\n",
              "    </tr>\n",
              "    <tr>\n",
              "      <th>6</th>\n",
              "      <td>,</td>\n",
              "      <td>O</td>\n",
              "    </tr>\n",
              "    <tr>\n",
              "      <th>7</th>\n",
              "      <td>Umständen</td>\n",
              "      <td>O</td>\n",
              "    </tr>\n",
              "    <tr>\n",
              "      <th>8</th>\n",
              "      <td>und</td>\n",
              "      <td>O</td>\n",
              "    </tr>\n",
              "    <tr>\n",
              "      <th>9</th>\n",
              "      <td>Beweggründen</td>\n",
              "      <td>O</td>\n",
              "    </tr>\n",
              "    <tr>\n",
              "      <th>10</th>\n",
              "      <td>auch</td>\n",
              "      <td>O</td>\n",
              "    </tr>\n",
              "    <tr>\n",
              "      <th>11</th>\n",
              "      <td>nicht</td>\n",
              "      <td>O</td>\n",
              "    </tr>\n",
              "    <tr>\n",
              "      <th>12</th>\n",
              "      <td>als</td>\n",
              "      <td>O</td>\n",
              "    </tr>\n",
              "    <tr>\n",
              "      <th>13</th>\n",
              "      <td>jugendtypische</td>\n",
              "      <td>O</td>\n",
              "    </tr>\n",
              "    <tr>\n",
              "      <th>14</th>\n",
              "      <td>Verfehlungen</td>\n",
              "      <td>O</td>\n",
              "    </tr>\n",
              "    <tr>\n",
              "      <th>15</th>\n",
              "      <td>iSd</td>\n",
              "      <td>O</td>\n",
              "    </tr>\n",
              "    <tr>\n",
              "      <th>16</th>\n",
              "      <td>§</td>\n",
              "      <td>B-GS</td>\n",
              "    </tr>\n",
              "    <tr>\n",
              "      <th>17</th>\n",
              "      <td>105</td>\n",
              "      <td>I-GS</td>\n",
              "    </tr>\n",
              "    <tr>\n",
              "      <th>18</th>\n",
              "      <td>Abs</td>\n",
              "      <td>I-GS</td>\n",
              "    </tr>\n",
              "    <tr>\n",
              "      <th>19</th>\n",
              "      <td>.</td>\n",
              "      <td>I-GS</td>\n",
              "    </tr>\n",
              "    <tr>\n",
              "      <th>20</th>\n",
              "      <td>1</td>\n",
              "      <td>I-GS</td>\n",
              "    </tr>\n",
              "    <tr>\n",
              "      <th>21</th>\n",
              "      <td>Nr</td>\n",
              "      <td>I-GS</td>\n",
              "    </tr>\n",
              "    <tr>\n",
              "      <th>22</th>\n",
              "      <td>.</td>\n",
              "      <td>I-GS</td>\n",
              "    </tr>\n",
              "    <tr>\n",
              "      <th>23</th>\n",
              "      <td>2</td>\n",
              "      <td>I-GS</td>\n",
              "    </tr>\n",
              "    <tr>\n",
              "      <th>24</th>\n",
              "      <td>JGG</td>\n",
              "      <td>I-GS</td>\n",
              "    </tr>\n",
              "    <tr>\n",
              "      <th>25</th>\n",
              "      <td>zu</td>\n",
              "      <td>O</td>\n",
              "    </tr>\n",
              "    <tr>\n",
              "      <th>26</th>\n",
              "      <td>sehen</td>\n",
              "      <td>O</td>\n",
              "    </tr>\n",
              "    <tr>\n",
              "      <th>27</th>\n",
              "      <td>.</td>\n",
              "      <td>O</td>\n",
              "    </tr>\n",
              "    <tr>\n",
              "      <th>28</th>\n",
              "      <td>Vielmehr</td>\n",
              "      <td>O</td>\n",
              "    </tr>\n",
              "    <tr>\n",
              "      <th>29</th>\n",
              "      <td>handelt</td>\n",
              "      <td>O</td>\n",
              "    </tr>\n",
              "    <tr>\n",
              "      <th>30</th>\n",
              "      <td>es</td>\n",
              "      <td>O</td>\n",
              "    </tr>\n",
              "    <tr>\n",
              "      <th>31</th>\n",
              "      <td>sich</td>\n",
              "      <td>O</td>\n",
              "    </tr>\n",
              "    <tr>\n",
              "      <th>32</th>\n",
              "      <td>um</td>\n",
              "      <td>O</td>\n",
              "    </tr>\n",
              "    <tr>\n",
              "      <th>33</th>\n",
              "      <td>kriminelle</td>\n",
              "      <td>O</td>\n",
              "    </tr>\n",
              "    <tr>\n",
              "      <th>34</th>\n",
              "      <td>Verhaltensweisen</td>\n",
              "      <td>O</td>\n",
              "    </tr>\n",
              "    <tr>\n",
              "      <th>35</th>\n",
              "      <td>,</td>\n",
              "      <td>O</td>\n",
              "    </tr>\n",
              "    <tr>\n",
              "      <th>36</th>\n",
              "      <td>die</td>\n",
              "      <td>O</td>\n",
              "    </tr>\n",
              "    <tr>\n",
              "      <th>37</th>\n",
              "      <td>gerade</td>\n",
              "      <td>O</td>\n",
              "    </tr>\n",
              "    <tr>\n",
              "      <th>38</th>\n",
              "      <td>bei</td>\n",
              "      <td>O</td>\n",
              "    </tr>\n",
              "    <tr>\n",
              "      <th>39</th>\n",
              "      <td>Drogenkonsumenten</td>\n",
              "      <td>O</td>\n",
              "    </tr>\n",
              "    <tr>\n",
              "      <th>40</th>\n",
              "      <td>in</td>\n",
              "      <td>O</td>\n",
              "    </tr>\n",
              "    <tr>\n",
              "      <th>41</th>\n",
              "      <td>allen</td>\n",
              "      <td>O</td>\n",
              "    </tr>\n",
              "    <tr>\n",
              "      <th>42</th>\n",
              "      <td>Altersschichten</td>\n",
              "      <td>O</td>\n",
              "    </tr>\n",
              "    <tr>\n",
              "      <th>43</th>\n",
              "      <td>anzutreffen</td>\n",
              "      <td>O</td>\n",
              "    </tr>\n",
              "    <tr>\n",
              "      <th>44</th>\n",
              "      <td>sind</td>\n",
              "      <td>O</td>\n",
              "    </tr>\n",
              "    <tr>\n",
              "      <th>45</th>\n",
              "      <td>.</td>\n",
              "      <td>O</td>\n",
              "    </tr>\n",
              "    <tr>\n",
              "      <th>46</th>\n",
              "      <td>[SEP]</td>\n",
              "      <td>O</td>\n",
              "    </tr>\n",
              "  </tbody>\n",
              "</table>\n",
              "</div>"
            ],
            "text/plain": [
              "             Sentence Label\n",
              "0               [CLS]     O\n",
              "1                 Die     O\n",
              "2               Taten     O\n",
              "3                sind     O\n",
              "4                nach     O\n",
              "5                 Art     O\n",
              "6                   ,     O\n",
              "7           Umständen     O\n",
              "8                 und     O\n",
              "9        Beweggründen     O\n",
              "10               auch     O\n",
              "11              nicht     O\n",
              "12                als     O\n",
              "13     jugendtypische     O\n",
              "14       Verfehlungen     O\n",
              "15                iSd     O\n",
              "16                  §  B-GS\n",
              "17                105  I-GS\n",
              "18                Abs  I-GS\n",
              "19                  .  I-GS\n",
              "20                  1  I-GS\n",
              "21                 Nr  I-GS\n",
              "22                  .  I-GS\n",
              "23                  2  I-GS\n",
              "24                JGG  I-GS\n",
              "25                 zu     O\n",
              "26              sehen     O\n",
              "27                  .     O\n",
              "28           Vielmehr     O\n",
              "29            handelt     O\n",
              "30                 es     O\n",
              "31               sich     O\n",
              "32                 um     O\n",
              "33         kriminelle     O\n",
              "34   Verhaltensweisen     O\n",
              "35                  ,     O\n",
              "36                die     O\n",
              "37             gerade     O\n",
              "38                bei     O\n",
              "39  Drogenkonsumenten     O\n",
              "40                 in     O\n",
              "41              allen     O\n",
              "42    Altersschichten     O\n",
              "43        anzutreffen     O\n",
              "44               sind     O\n",
              "45                  .     O\n",
              "46              [SEP]     O"
            ]
          },
          "execution_count": 474,
          "metadata": {},
          "output_type": "execute_result"
        }
      ],
      "source": [
        "test_sentence(\"Die Taten sind nach Art, Umständen und Beweggründen auch nicht als jugendtypische Verfehlungen iSd § 105 Abs. 1 Nr. 2 JGG zu sehen. Vielmehr handelt es sich um kriminelle Verhaltensweisen, die gerade bei Drogenkonsumenten in allen Altersschichten anzutreffen sind.\")"
      ]
    },
    {
      "cell_type": "markdown",
      "metadata": {},
      "source": [
        "### Resources\n",
        "\n",
        "Leitner, E., Rehm, G., and Moreno-Schneider, J. (2019).Fine-grained Named Entity Recognition in legal documents.\n",
        "\n",
        "Leitner, E., Rehm, G., and Moreno-Schneider, J. (2020). A Dataset of German Legal Documents for Named Entity Recognition\n",
        "\n",
        "https://www.depends-on-the-definition.com/named-entity-recognition-with-bert/"
      ]
    },
    {
      "cell_type": "markdown",
      "metadata": {},
      "source": []
    }
  ],
  "metadata": {
    "accelerator": "GPU",
    "colab": {
      "collapsed_sections": [],
      "history_visible": true,
      "name": "LegalBERT.ipynb",
      "provenance": []
    },
    "kernelspec": {
      "display_name": "Python 3",
      "name": "python3"
    },
    "language_info": {
      "codemirror_mode": {
        "name": "ipython",
        "version": 3
      },
      "file_extension": ".py",
      "mimetype": "text/x-python",
      "name": "python",
      "nbconvert_exporter": "python",
      "pygments_lexer": "ipython3",
      "version": "3.9.4"
    },
    "widgets": {
      "application/vnd.jupyter.widget-state+json": {
        "00d48c7b906748b4af8303214dbe0643": {
          "model_module": "@jupyter-widgets/base",
          "model_module_version": "1.2.0",
          "model_name": "LayoutModel",
          "state": {
            "_model_module": "@jupyter-widgets/base",
            "_model_module_version": "1.2.0",
            "_model_name": "LayoutModel",
            "_view_count": null,
            "_view_module": "@jupyter-widgets/base",
            "_view_module_version": "1.2.0",
            "_view_name": "LayoutView",
            "align_content": null,
            "align_items": null,
            "align_self": null,
            "border": null,
            "bottom": null,
            "display": null,
            "flex": null,
            "flex_flow": null,
            "grid_area": null,
            "grid_auto_columns": null,
            "grid_auto_flow": null,
            "grid_auto_rows": null,
            "grid_column": null,
            "grid_gap": null,
            "grid_row": null,
            "grid_template_areas": null,
            "grid_template_columns": null,
            "grid_template_rows": null,
            "height": null,
            "justify_content": null,
            "justify_items": null,
            "left": null,
            "margin": null,
            "max_height": null,
            "max_width": null,
            "min_height": null,
            "min_width": null,
            "object_fit": null,
            "object_position": null,
            "order": null,
            "overflow": null,
            "overflow_x": null,
            "overflow_y": null,
            "padding": null,
            "right": null,
            "top": null,
            "visibility": null,
            "width": null
          }
        },
        "0317eb8207d64427a6741db008d5db52": {
          "model_module": "@jupyter-widgets/controls",
          "model_module_version": "1.5.0",
          "model_name": "FloatProgressModel",
          "state": {
            "_dom_classes": [],
            "_model_module": "@jupyter-widgets/controls",
            "_model_module_version": "1.5.0",
            "_model_name": "FloatProgressModel",
            "_view_count": null,
            "_view_module": "@jupyter-widgets/controls",
            "_view_module_version": "1.5.0",
            "_view_name": "ProgressView",
            "bar_style": "success",
            "description": "",
            "description_tooltip": null,
            "layout": "IPY_MODEL_00d48c7b906748b4af8303214dbe0643",
            "max": 438869143,
            "min": 0,
            "orientation": "horizontal",
            "style": "IPY_MODEL_794a691eb9244851bd6f89c25b93fee9",
            "value": 438869143
          }
        },
        "0db643fb8a5d4e7b8297238419b7a9d0": {
          "model_module": "@jupyter-widgets/base",
          "model_module_version": "1.2.0",
          "model_name": "LayoutModel",
          "state": {
            "_model_module": "@jupyter-widgets/base",
            "_model_module_version": "1.2.0",
            "_model_name": "LayoutModel",
            "_view_count": null,
            "_view_module": "@jupyter-widgets/base",
            "_view_module_version": "1.2.0",
            "_view_name": "LayoutView",
            "align_content": null,
            "align_items": null,
            "align_self": null,
            "border": null,
            "bottom": null,
            "display": null,
            "flex": null,
            "flex_flow": null,
            "grid_area": null,
            "grid_auto_columns": null,
            "grid_auto_flow": null,
            "grid_auto_rows": null,
            "grid_column": null,
            "grid_gap": null,
            "grid_row": null,
            "grid_template_areas": null,
            "grid_template_columns": null,
            "grid_template_rows": null,
            "height": null,
            "justify_content": null,
            "justify_items": null,
            "left": null,
            "margin": null,
            "max_height": null,
            "max_width": null,
            "min_height": null,
            "min_width": null,
            "object_fit": null,
            "object_position": null,
            "order": null,
            "overflow": null,
            "overflow_x": null,
            "overflow_y": null,
            "padding": null,
            "right": null,
            "top": null,
            "visibility": null,
            "width": null
          }
        },
        "0df8bcd609f04f1eb8692846e42c60a7": {
          "model_module": "@jupyter-widgets/controls",
          "model_module_version": "1.5.0",
          "model_name": "DescriptionStyleModel",
          "state": {
            "_model_module": "@jupyter-widgets/controls",
            "_model_module_version": "1.5.0",
            "_model_name": "DescriptionStyleModel",
            "_view_count": null,
            "_view_module": "@jupyter-widgets/base",
            "_view_module_version": "1.2.0",
            "_view_name": "StyleView",
            "description_width": ""
          }
        },
        "0f4af022b270447998f42803f835db19": {
          "model_module": "@jupyter-widgets/controls",
          "model_module_version": "1.5.0",
          "model_name": "FloatProgressModel",
          "state": {
            "_dom_classes": [],
            "_model_module": "@jupyter-widgets/controls",
            "_model_module_version": "1.5.0",
            "_model_name": "FloatProgressModel",
            "_view_count": null,
            "_view_module": "@jupyter-widgets/controls",
            "_view_module_version": "1.5.0",
            "_view_name": "ProgressView",
            "bar_style": "success",
            "description": "",
            "description_tooltip": null,
            "layout": "IPY_MODEL_779acda57be643019d313f9c114a358e",
            "max": 29,
            "min": 0,
            "orientation": "horizontal",
            "style": "IPY_MODEL_c2c47f11133c4e6f9641ae1c85fcf4c6",
            "value": 29
          }
        },
        "13680c83c5a54d6b94ec13dddbd80fca": {
          "model_module": "@jupyter-widgets/controls",
          "model_module_version": "1.5.0",
          "model_name": "FloatProgressModel",
          "state": {
            "_dom_classes": [],
            "_model_module": "@jupyter-widgets/controls",
            "_model_module_version": "1.5.0",
            "_model_name": "FloatProgressModel",
            "_view_count": null,
            "_view_module": "@jupyter-widgets/controls",
            "_view_module_version": "1.5.0",
            "_view_name": "ProgressView",
            "bar_style": "success",
            "description": "",
            "description_tooltip": null,
            "layout": "IPY_MODEL_83821fa094e8457084a837dd75685c8a",
            "max": 485115,
            "min": 0,
            "orientation": "horizontal",
            "style": "IPY_MODEL_f081f80a52964de3a1d3d3a30b6fef12",
            "value": 485115
          }
        },
        "1682c74d61004c74b702a1cbb10e8148": {
          "model_module": "@jupyter-widgets/controls",
          "model_module_version": "1.5.0",
          "model_name": "HBoxModel",
          "state": {
            "_dom_classes": [],
            "_model_module": "@jupyter-widgets/controls",
            "_model_module_version": "1.5.0",
            "_model_name": "HBoxModel",
            "_view_count": null,
            "_view_module": "@jupyter-widgets/controls",
            "_view_module_version": "1.5.0",
            "_view_name": "HBoxView",
            "box_style": "",
            "children": [
              "IPY_MODEL_c90d8f171d7e437ab363e5a58cf55d7f",
              "IPY_MODEL_f924f6cee6034752bfd681ffabeafe9c",
              "IPY_MODEL_c3f1192b24d04b4e8ade94e3dc20c89f"
            ],
            "layout": "IPY_MODEL_dac83ce0ff90487daa58f66f21ca8bed"
          }
        },
        "17bc8d84d1644ac1b03535a9701960e6": {
          "model_module": "@jupyter-widgets/controls",
          "model_module_version": "1.5.0",
          "model_name": "HTMLModel",
          "state": {
            "_dom_classes": [],
            "_model_module": "@jupyter-widgets/controls",
            "_model_module_version": "1.5.0",
            "_model_name": "HTMLModel",
            "_view_count": null,
            "_view_module": "@jupyter-widgets/controls",
            "_view_module_version": "1.5.0",
            "_view_name": "HTMLView",
            "description": "",
            "description_tooltip": null,
            "layout": "IPY_MODEL_3821542b7ece4baf843097815c293d22",
            "placeholder": "​",
            "style": "IPY_MODEL_3f55bbf0614e468c918daabac89aa6a6",
            "value": " 419M/419M [00:21&lt;00:00, 25.4MB/s]"
          }
        },
        "19a486df0b7c4a05aa3af41171c4d95a": {
          "model_module": "@jupyter-widgets/base",
          "model_module_version": "1.2.0",
          "model_name": "LayoutModel",
          "state": {
            "_model_module": "@jupyter-widgets/base",
            "_model_module_version": "1.2.0",
            "_model_name": "LayoutModel",
            "_view_count": null,
            "_view_module": "@jupyter-widgets/base",
            "_view_module_version": "1.2.0",
            "_view_name": "LayoutView",
            "align_content": null,
            "align_items": null,
            "align_self": null,
            "border": null,
            "bottom": null,
            "display": null,
            "flex": null,
            "flex_flow": null,
            "grid_area": null,
            "grid_auto_columns": null,
            "grid_auto_flow": null,
            "grid_auto_rows": null,
            "grid_column": null,
            "grid_gap": null,
            "grid_row": null,
            "grid_template_areas": null,
            "grid_template_columns": null,
            "grid_template_rows": null,
            "height": null,
            "justify_content": null,
            "justify_items": null,
            "left": null,
            "margin": null,
            "max_height": null,
            "max_width": null,
            "min_height": null,
            "min_width": null,
            "object_fit": null,
            "object_position": null,
            "order": null,
            "overflow": null,
            "overflow_x": null,
            "overflow_y": null,
            "padding": null,
            "right": null,
            "top": null,
            "visibility": null,
            "width": null
          }
        },
        "1dfdfab7214245609d04c3a7fb85c5c2": {
          "model_module": "@jupyter-widgets/controls",
          "model_module_version": "1.5.0",
          "model_name": "HBoxModel",
          "state": {
            "_dom_classes": [],
            "_model_module": "@jupyter-widgets/controls",
            "_model_module_version": "1.5.0",
            "_model_name": "HBoxModel",
            "_view_count": null,
            "_view_module": "@jupyter-widgets/controls",
            "_view_module_version": "1.5.0",
            "_view_name": "HBoxView",
            "box_style": "",
            "children": [
              "IPY_MODEL_90221ef3de3c4eb7b2e26ac2fd13aee9",
              "IPY_MODEL_0317eb8207d64427a6741db008d5db52",
              "IPY_MODEL_17bc8d84d1644ac1b03535a9701960e6"
            ],
            "layout": "IPY_MODEL_69b6d67e88c0482795e38362ece41382"
          }
        },
        "269a8afc87d44900910804f057e0783f": {
          "model_module": "@jupyter-widgets/controls",
          "model_module_version": "1.5.0",
          "model_name": "DescriptionStyleModel",
          "state": {
            "_model_module": "@jupyter-widgets/controls",
            "_model_module_version": "1.5.0",
            "_model_name": "DescriptionStyleModel",
            "_view_count": null,
            "_view_module": "@jupyter-widgets/base",
            "_view_module_version": "1.2.0",
            "_view_name": "StyleView",
            "description_width": ""
          }
        },
        "316c73651fe74c86be849be12411b2e4": {
          "model_module": "@jupyter-widgets/base",
          "model_module_version": "1.2.0",
          "model_name": "LayoutModel",
          "state": {
            "_model_module": "@jupyter-widgets/base",
            "_model_module_version": "1.2.0",
            "_model_name": "LayoutModel",
            "_view_count": null,
            "_view_module": "@jupyter-widgets/base",
            "_view_module_version": "1.2.0",
            "_view_name": "LayoutView",
            "align_content": null,
            "align_items": null,
            "align_self": null,
            "border": null,
            "bottom": null,
            "display": null,
            "flex": null,
            "flex_flow": null,
            "grid_area": null,
            "grid_auto_columns": null,
            "grid_auto_flow": null,
            "grid_auto_rows": null,
            "grid_column": null,
            "grid_gap": null,
            "grid_row": null,
            "grid_template_areas": null,
            "grid_template_columns": null,
            "grid_template_rows": null,
            "height": null,
            "justify_content": null,
            "justify_items": null,
            "left": null,
            "margin": null,
            "max_height": null,
            "max_width": null,
            "min_height": null,
            "min_width": null,
            "object_fit": null,
            "object_position": null,
            "order": null,
            "overflow": null,
            "overflow_x": null,
            "overflow_y": null,
            "padding": null,
            "right": null,
            "top": null,
            "visibility": null,
            "width": null
          }
        },
        "3673bf9751564cb1b01d5edce68117f1": {
          "model_module": "@jupyter-widgets/controls",
          "model_module_version": "1.5.0",
          "model_name": "HTMLModel",
          "state": {
            "_dom_classes": [],
            "_model_module": "@jupyter-widgets/controls",
            "_model_module_version": "1.5.0",
            "_model_name": "HTMLModel",
            "_view_count": null,
            "_view_module": "@jupyter-widgets/controls",
            "_view_module_version": "1.5.0",
            "_view_name": "HTMLView",
            "description": "",
            "description_tooltip": null,
            "layout": "IPY_MODEL_316c73651fe74c86be849be12411b2e4",
            "placeholder": "​",
            "style": "IPY_MODEL_dad35dfdbae5427abb9bc768253efd34",
            "value": "Downloading: 100%"
          }
        },
        "3821542b7ece4baf843097815c293d22": {
          "model_module": "@jupyter-widgets/base",
          "model_module_version": "1.2.0",
          "model_name": "LayoutModel",
          "state": {
            "_model_module": "@jupyter-widgets/base",
            "_model_module_version": "1.2.0",
            "_model_name": "LayoutModel",
            "_view_count": null,
            "_view_module": "@jupyter-widgets/base",
            "_view_module_version": "1.2.0",
            "_view_name": "LayoutView",
            "align_content": null,
            "align_items": null,
            "align_self": null,
            "border": null,
            "bottom": null,
            "display": null,
            "flex": null,
            "flex_flow": null,
            "grid_area": null,
            "grid_auto_columns": null,
            "grid_auto_flow": null,
            "grid_auto_rows": null,
            "grid_column": null,
            "grid_gap": null,
            "grid_row": null,
            "grid_template_areas": null,
            "grid_template_columns": null,
            "grid_template_rows": null,
            "height": null,
            "justify_content": null,
            "justify_items": null,
            "left": null,
            "margin": null,
            "max_height": null,
            "max_width": null,
            "min_height": null,
            "min_width": null,
            "object_fit": null,
            "object_position": null,
            "order": null,
            "overflow": null,
            "overflow_x": null,
            "overflow_y": null,
            "padding": null,
            "right": null,
            "top": null,
            "visibility": null,
            "width": null
          }
        },
        "392d24c775574959ae5e053370c99c70": {
          "model_module": "@jupyter-widgets/base",
          "model_module_version": "1.2.0",
          "model_name": "LayoutModel",
          "state": {
            "_model_module": "@jupyter-widgets/base",
            "_model_module_version": "1.2.0",
            "_model_name": "LayoutModel",
            "_view_count": null,
            "_view_module": "@jupyter-widgets/base",
            "_view_module_version": "1.2.0",
            "_view_name": "LayoutView",
            "align_content": null,
            "align_items": null,
            "align_self": null,
            "border": null,
            "bottom": null,
            "display": null,
            "flex": null,
            "flex_flow": null,
            "grid_area": null,
            "grid_auto_columns": null,
            "grid_auto_flow": null,
            "grid_auto_rows": null,
            "grid_column": null,
            "grid_gap": null,
            "grid_row": null,
            "grid_template_areas": null,
            "grid_template_columns": null,
            "grid_template_rows": null,
            "height": null,
            "justify_content": null,
            "justify_items": null,
            "left": null,
            "margin": null,
            "max_height": null,
            "max_width": null,
            "min_height": null,
            "min_width": null,
            "object_fit": null,
            "object_position": null,
            "order": null,
            "overflow": null,
            "overflow_x": null,
            "overflow_y": null,
            "padding": null,
            "right": null,
            "top": null,
            "visibility": null,
            "width": null
          }
        },
        "3a14981ceeb846a091e4a55c4fb4ed74": {
          "model_module": "@jupyter-widgets/controls",
          "model_module_version": "1.5.0",
          "model_name": "HBoxModel",
          "state": {
            "_dom_classes": [],
            "_model_module": "@jupyter-widgets/controls",
            "_model_module_version": "1.5.0",
            "_model_name": "HBoxModel",
            "_view_count": null,
            "_view_module": "@jupyter-widgets/controls",
            "_view_module_version": "1.5.0",
            "_view_name": "HBoxView",
            "box_style": "",
            "children": [
              "IPY_MODEL_5424392fed8143c98c7356b7998d76c8",
              "IPY_MODEL_a85283116e204dc8b1685b72e30846ee",
              "IPY_MODEL_4f1efd2ae9b5406bb9fdade8b3ca7634"
            ],
            "layout": "IPY_MODEL_52cd69dcbf0d42b7a64b594752bac2d1"
          }
        },
        "3c6d227ab65f4417bbd71499ef854e82": {
          "model_module": "@jupyter-widgets/base",
          "model_module_version": "1.2.0",
          "model_name": "LayoutModel",
          "state": {
            "_model_module": "@jupyter-widgets/base",
            "_model_module_version": "1.2.0",
            "_model_name": "LayoutModel",
            "_view_count": null,
            "_view_module": "@jupyter-widgets/base",
            "_view_module_version": "1.2.0",
            "_view_name": "LayoutView",
            "align_content": null,
            "align_items": null,
            "align_self": null,
            "border": null,
            "bottom": null,
            "display": null,
            "flex": null,
            "flex_flow": null,
            "grid_area": null,
            "grid_auto_columns": null,
            "grid_auto_flow": null,
            "grid_auto_rows": null,
            "grid_column": null,
            "grid_gap": null,
            "grid_row": null,
            "grid_template_areas": null,
            "grid_template_columns": null,
            "grid_template_rows": null,
            "height": null,
            "justify_content": null,
            "justify_items": null,
            "left": null,
            "margin": null,
            "max_height": null,
            "max_width": null,
            "min_height": null,
            "min_width": null,
            "object_fit": null,
            "object_position": null,
            "order": null,
            "overflow": null,
            "overflow_x": null,
            "overflow_y": null,
            "padding": null,
            "right": null,
            "top": null,
            "visibility": null,
            "width": null
          }
        },
        "3f55bbf0614e468c918daabac89aa6a6": {
          "model_module": "@jupyter-widgets/controls",
          "model_module_version": "1.5.0",
          "model_name": "DescriptionStyleModel",
          "state": {
            "_model_module": "@jupyter-widgets/controls",
            "_model_module_version": "1.5.0",
            "_model_name": "DescriptionStyleModel",
            "_view_count": null,
            "_view_module": "@jupyter-widgets/base",
            "_view_module_version": "1.2.0",
            "_view_name": "StyleView",
            "description_width": ""
          }
        },
        "4853b9b6cb7247c3827e63495d08cf90": {
          "model_module": "@jupyter-widgets/base",
          "model_module_version": "1.2.0",
          "model_name": "LayoutModel",
          "state": {
            "_model_module": "@jupyter-widgets/base",
            "_model_module_version": "1.2.0",
            "_model_name": "LayoutModel",
            "_view_count": null,
            "_view_module": "@jupyter-widgets/base",
            "_view_module_version": "1.2.0",
            "_view_name": "LayoutView",
            "align_content": null,
            "align_items": null,
            "align_self": null,
            "border": null,
            "bottom": null,
            "display": null,
            "flex": null,
            "flex_flow": null,
            "grid_area": null,
            "grid_auto_columns": null,
            "grid_auto_flow": null,
            "grid_auto_rows": null,
            "grid_column": null,
            "grid_gap": null,
            "grid_row": null,
            "grid_template_areas": null,
            "grid_template_columns": null,
            "grid_template_rows": null,
            "height": null,
            "justify_content": null,
            "justify_items": null,
            "left": null,
            "margin": null,
            "max_height": null,
            "max_width": null,
            "min_height": null,
            "min_width": null,
            "object_fit": null,
            "object_position": null,
            "order": null,
            "overflow": null,
            "overflow_x": null,
            "overflow_y": null,
            "padding": null,
            "right": null,
            "top": null,
            "visibility": null,
            "width": null
          }
        },
        "4f1efd2ae9b5406bb9fdade8b3ca7634": {
          "model_module": "@jupyter-widgets/controls",
          "model_module_version": "1.5.0",
          "model_name": "HTMLModel",
          "state": {
            "_dom_classes": [],
            "_model_module": "@jupyter-widgets/controls",
            "_model_module_version": "1.5.0",
            "_model_name": "HTMLModel",
            "_view_count": null,
            "_view_module": "@jupyter-widgets/controls",
            "_view_module_version": "1.5.0",
            "_view_name": "HTMLView",
            "description": "",
            "description_tooltip": null,
            "layout": "IPY_MODEL_19a486df0b7c4a05aa3af41171c4d95a",
            "placeholder": "​",
            "style": "IPY_MODEL_269a8afc87d44900910804f057e0783f",
            "value": " 433/433 [00:00&lt;00:00, 10.8kB/s]"
          }
        },
        "503b7f4aa9ea40cfb16a2b9f5d4498ae": {
          "model_module": "@jupyter-widgets/controls",
          "model_module_version": "1.5.0",
          "model_name": "DescriptionStyleModel",
          "state": {
            "_model_module": "@jupyter-widgets/controls",
            "_model_module_version": "1.5.0",
            "_model_name": "DescriptionStyleModel",
            "_view_count": null,
            "_view_module": "@jupyter-widgets/base",
            "_view_module_version": "1.2.0",
            "_view_name": "StyleView",
            "description_width": ""
          }
        },
        "52cd69dcbf0d42b7a64b594752bac2d1": {
          "model_module": "@jupyter-widgets/base",
          "model_module_version": "1.2.0",
          "model_name": "LayoutModel",
          "state": {
            "_model_module": "@jupyter-widgets/base",
            "_model_module_version": "1.2.0",
            "_model_name": "LayoutModel",
            "_view_count": null,
            "_view_module": "@jupyter-widgets/base",
            "_view_module_version": "1.2.0",
            "_view_name": "LayoutView",
            "align_content": null,
            "align_items": null,
            "align_self": null,
            "border": null,
            "bottom": null,
            "display": null,
            "flex": null,
            "flex_flow": null,
            "grid_area": null,
            "grid_auto_columns": null,
            "grid_auto_flow": null,
            "grid_auto_rows": null,
            "grid_column": null,
            "grid_gap": null,
            "grid_row": null,
            "grid_template_areas": null,
            "grid_template_columns": null,
            "grid_template_rows": null,
            "height": null,
            "justify_content": null,
            "justify_items": null,
            "left": null,
            "margin": null,
            "max_height": null,
            "max_width": null,
            "min_height": null,
            "min_width": null,
            "object_fit": null,
            "object_position": null,
            "order": null,
            "overflow": null,
            "overflow_x": null,
            "overflow_y": null,
            "padding": null,
            "right": null,
            "top": null,
            "visibility": null,
            "width": null
          }
        },
        "5424392fed8143c98c7356b7998d76c8": {
          "model_module": "@jupyter-widgets/controls",
          "model_module_version": "1.5.0",
          "model_name": "HTMLModel",
          "state": {
            "_dom_classes": [],
            "_model_module": "@jupyter-widgets/controls",
            "_model_module_version": "1.5.0",
            "_model_name": "HTMLModel",
            "_view_count": null,
            "_view_module": "@jupyter-widgets/controls",
            "_view_module_version": "1.5.0",
            "_view_name": "HTMLView",
            "description": "",
            "description_tooltip": null,
            "layout": "IPY_MODEL_0db643fb8a5d4e7b8297238419b7a9d0",
            "placeholder": "​",
            "style": "IPY_MODEL_8bec3c097ad54e1e89fd16d121f52abe",
            "value": "Downloading: 100%"
          }
        },
        "5507ed704f7d4398ad9471fe55757997": {
          "model_module": "@jupyter-widgets/base",
          "model_module_version": "1.2.0",
          "model_name": "LayoutModel",
          "state": {
            "_model_module": "@jupyter-widgets/base",
            "_model_module_version": "1.2.0",
            "_model_name": "LayoutModel",
            "_view_count": null,
            "_view_module": "@jupyter-widgets/base",
            "_view_module_version": "1.2.0",
            "_view_name": "LayoutView",
            "align_content": null,
            "align_items": null,
            "align_self": null,
            "border": null,
            "bottom": null,
            "display": null,
            "flex": null,
            "flex_flow": null,
            "grid_area": null,
            "grid_auto_columns": null,
            "grid_auto_flow": null,
            "grid_auto_rows": null,
            "grid_column": null,
            "grid_gap": null,
            "grid_row": null,
            "grid_template_areas": null,
            "grid_template_columns": null,
            "grid_template_rows": null,
            "height": null,
            "justify_content": null,
            "justify_items": null,
            "left": null,
            "margin": null,
            "max_height": null,
            "max_width": null,
            "min_height": null,
            "min_width": null,
            "object_fit": null,
            "object_position": null,
            "order": null,
            "overflow": null,
            "overflow_x": null,
            "overflow_y": null,
            "padding": null,
            "right": null,
            "top": null,
            "visibility": null,
            "width": null
          }
        },
        "5cb4db03d56544fe8c53e7abb8d04597": {
          "model_module": "@jupyter-widgets/controls",
          "model_module_version": "1.5.0",
          "model_name": "ProgressStyleModel",
          "state": {
            "_model_module": "@jupyter-widgets/controls",
            "_model_module_version": "1.5.0",
            "_model_name": "ProgressStyleModel",
            "_view_count": null,
            "_view_module": "@jupyter-widgets/base",
            "_view_module_version": "1.2.0",
            "_view_name": "StyleView",
            "bar_color": null,
            "description_width": ""
          }
        },
        "62d7c1c43cd24679bc10a1bfc7d224ec": {
          "model_module": "@jupyter-widgets/controls",
          "model_module_version": "1.5.0",
          "model_name": "DescriptionStyleModel",
          "state": {
            "_model_module": "@jupyter-widgets/controls",
            "_model_module_version": "1.5.0",
            "_model_name": "DescriptionStyleModel",
            "_view_count": null,
            "_view_module": "@jupyter-widgets/base",
            "_view_module_version": "1.2.0",
            "_view_name": "StyleView",
            "description_width": ""
          }
        },
        "62db2074b78849919568ebd127702b71": {
          "model_module": "@jupyter-widgets/controls",
          "model_module_version": "1.5.0",
          "model_name": "HTMLModel",
          "state": {
            "_dom_classes": [],
            "_model_module": "@jupyter-widgets/controls",
            "_model_module_version": "1.5.0",
            "_model_name": "HTMLModel",
            "_view_count": null,
            "_view_module": "@jupyter-widgets/controls",
            "_view_module_version": "1.5.0",
            "_view_name": "HTMLView",
            "description": "",
            "description_tooltip": null,
            "layout": "IPY_MODEL_fa6727db806d4af19571bc95a6b8e384",
            "placeholder": "​",
            "style": "IPY_MODEL_0df8bcd609f04f1eb8692846e42c60a7",
            "value": " 474k/474k [00:00&lt;00:00, 706kB/s]"
          }
        },
        "647e8cead5de40be8db5b38761ebfcc5": {
          "model_module": "@jupyter-widgets/base",
          "model_module_version": "1.2.0",
          "model_name": "LayoutModel",
          "state": {
            "_model_module": "@jupyter-widgets/base",
            "_model_module_version": "1.2.0",
            "_model_name": "LayoutModel",
            "_view_count": null,
            "_view_module": "@jupyter-widgets/base",
            "_view_module_version": "1.2.0",
            "_view_name": "LayoutView",
            "align_content": null,
            "align_items": null,
            "align_self": null,
            "border": null,
            "bottom": null,
            "display": null,
            "flex": null,
            "flex_flow": null,
            "grid_area": null,
            "grid_auto_columns": null,
            "grid_auto_flow": null,
            "grid_auto_rows": null,
            "grid_column": null,
            "grid_gap": null,
            "grid_row": null,
            "grid_template_areas": null,
            "grid_template_columns": null,
            "grid_template_rows": null,
            "height": null,
            "justify_content": null,
            "justify_items": null,
            "left": null,
            "margin": null,
            "max_height": null,
            "max_width": null,
            "min_height": null,
            "min_width": null,
            "object_fit": null,
            "object_position": null,
            "order": null,
            "overflow": null,
            "overflow_x": null,
            "overflow_y": null,
            "padding": null,
            "right": null,
            "top": null,
            "visibility": null,
            "width": null
          }
        },
        "64f67a4cd8754631aa0d426552ce8452": {
          "model_module": "@jupyter-widgets/controls",
          "model_module_version": "1.5.0",
          "model_name": "HTMLModel",
          "state": {
            "_dom_classes": [],
            "_model_module": "@jupyter-widgets/controls",
            "_model_module_version": "1.5.0",
            "_model_name": "HTMLModel",
            "_view_count": null,
            "_view_module": "@jupyter-widgets/controls",
            "_view_module_version": "1.5.0",
            "_view_name": "HTMLView",
            "description": "",
            "description_tooltip": null,
            "layout": "IPY_MODEL_7c0c331598ae44d0a4df81af1bc3af81",
            "placeholder": "​",
            "style": "IPY_MODEL_b3dbddbb9407439b9e74b1ce0bc123a1",
            "value": "Downloading: 100%"
          }
        },
        "6932afe41ce649be991e5580cbd26b55": {
          "model_module": "@jupyter-widgets/controls",
          "model_module_version": "1.5.0",
          "model_name": "HBoxModel",
          "state": {
            "_dom_classes": [],
            "_model_module": "@jupyter-widgets/controls",
            "_model_module_version": "1.5.0",
            "_model_name": "HBoxModel",
            "_view_count": null,
            "_view_module": "@jupyter-widgets/controls",
            "_view_module_version": "1.5.0",
            "_view_name": "HBoxView",
            "box_style": "",
            "children": [
              "IPY_MODEL_3673bf9751564cb1b01d5edce68117f1",
              "IPY_MODEL_0f4af022b270447998f42803f835db19",
              "IPY_MODEL_c09328fa4bad48499412a90d200638ab"
            ],
            "layout": "IPY_MODEL_ddf278a49e9b4543a13b8ac31230aa6c"
          }
        },
        "69b6d67e88c0482795e38362ece41382": {
          "model_module": "@jupyter-widgets/base",
          "model_module_version": "1.2.0",
          "model_name": "LayoutModel",
          "state": {
            "_model_module": "@jupyter-widgets/base",
            "_model_module_version": "1.2.0",
            "_model_name": "LayoutModel",
            "_view_count": null,
            "_view_module": "@jupyter-widgets/base",
            "_view_module_version": "1.2.0",
            "_view_name": "LayoutView",
            "align_content": null,
            "align_items": null,
            "align_self": null,
            "border": null,
            "bottom": null,
            "display": null,
            "flex": null,
            "flex_flow": null,
            "grid_area": null,
            "grid_auto_columns": null,
            "grid_auto_flow": null,
            "grid_auto_rows": null,
            "grid_column": null,
            "grid_gap": null,
            "grid_row": null,
            "grid_template_areas": null,
            "grid_template_columns": null,
            "grid_template_rows": null,
            "height": null,
            "justify_content": null,
            "justify_items": null,
            "left": null,
            "margin": null,
            "max_height": null,
            "max_width": null,
            "min_height": null,
            "min_width": null,
            "object_fit": null,
            "object_position": null,
            "order": null,
            "overflow": null,
            "overflow_x": null,
            "overflow_y": null,
            "padding": null,
            "right": null,
            "top": null,
            "visibility": null,
            "width": null
          }
        },
        "779acda57be643019d313f9c114a358e": {
          "model_module": "@jupyter-widgets/base",
          "model_module_version": "1.2.0",
          "model_name": "LayoutModel",
          "state": {
            "_model_module": "@jupyter-widgets/base",
            "_model_module_version": "1.2.0",
            "_model_name": "LayoutModel",
            "_view_count": null,
            "_view_module": "@jupyter-widgets/base",
            "_view_module_version": "1.2.0",
            "_view_name": "LayoutView",
            "align_content": null,
            "align_items": null,
            "align_self": null,
            "border": null,
            "bottom": null,
            "display": null,
            "flex": null,
            "flex_flow": null,
            "grid_area": null,
            "grid_auto_columns": null,
            "grid_auto_flow": null,
            "grid_auto_rows": null,
            "grid_column": null,
            "grid_gap": null,
            "grid_row": null,
            "grid_template_areas": null,
            "grid_template_columns": null,
            "grid_template_rows": null,
            "height": null,
            "justify_content": null,
            "justify_items": null,
            "left": null,
            "margin": null,
            "max_height": null,
            "max_width": null,
            "min_height": null,
            "min_width": null,
            "object_fit": null,
            "object_position": null,
            "order": null,
            "overflow": null,
            "overflow_x": null,
            "overflow_y": null,
            "padding": null,
            "right": null,
            "top": null,
            "visibility": null,
            "width": null
          }
        },
        "794a691eb9244851bd6f89c25b93fee9": {
          "model_module": "@jupyter-widgets/controls",
          "model_module_version": "1.5.0",
          "model_name": "ProgressStyleModel",
          "state": {
            "_model_module": "@jupyter-widgets/controls",
            "_model_module_version": "1.5.0",
            "_model_name": "ProgressStyleModel",
            "_view_count": null,
            "_view_module": "@jupyter-widgets/base",
            "_view_module_version": "1.2.0",
            "_view_name": "StyleView",
            "bar_color": null,
            "description_width": ""
          }
        },
        "79f0fd119e2d488da5f9b86ef5839669": {
          "model_module": "@jupyter-widgets/controls",
          "model_module_version": "1.5.0",
          "model_name": "HBoxModel",
          "state": {
            "_dom_classes": [],
            "_model_module": "@jupyter-widgets/controls",
            "_model_module_version": "1.5.0",
            "_model_name": "HBoxModel",
            "_view_count": null,
            "_view_module": "@jupyter-widgets/controls",
            "_view_module_version": "1.5.0",
            "_view_name": "HBoxView",
            "box_style": "",
            "children": [
              "IPY_MODEL_64f67a4cd8754631aa0d426552ce8452",
              "IPY_MODEL_13680c83c5a54d6b94ec13dddbd80fca",
              "IPY_MODEL_62db2074b78849919568ebd127702b71"
            ],
            "layout": "IPY_MODEL_9cb4fa5f4839474f97d04e7f60d790f0"
          }
        },
        "7c0c331598ae44d0a4df81af1bc3af81": {
          "model_module": "@jupyter-widgets/base",
          "model_module_version": "1.2.0",
          "model_name": "LayoutModel",
          "state": {
            "_model_module": "@jupyter-widgets/base",
            "_model_module_version": "1.2.0",
            "_model_name": "LayoutModel",
            "_view_count": null,
            "_view_module": "@jupyter-widgets/base",
            "_view_module_version": "1.2.0",
            "_view_name": "LayoutView",
            "align_content": null,
            "align_items": null,
            "align_self": null,
            "border": null,
            "bottom": null,
            "display": null,
            "flex": null,
            "flex_flow": null,
            "grid_area": null,
            "grid_auto_columns": null,
            "grid_auto_flow": null,
            "grid_auto_rows": null,
            "grid_column": null,
            "grid_gap": null,
            "grid_row": null,
            "grid_template_areas": null,
            "grid_template_columns": null,
            "grid_template_rows": null,
            "height": null,
            "justify_content": null,
            "justify_items": null,
            "left": null,
            "margin": null,
            "max_height": null,
            "max_width": null,
            "min_height": null,
            "min_width": null,
            "object_fit": null,
            "object_position": null,
            "order": null,
            "overflow": null,
            "overflow_x": null,
            "overflow_y": null,
            "padding": null,
            "right": null,
            "top": null,
            "visibility": null,
            "width": null
          }
        },
        "83821fa094e8457084a837dd75685c8a": {
          "model_module": "@jupyter-widgets/base",
          "model_module_version": "1.2.0",
          "model_name": "LayoutModel",
          "state": {
            "_model_module": "@jupyter-widgets/base",
            "_model_module_version": "1.2.0",
            "_model_name": "LayoutModel",
            "_view_count": null,
            "_view_module": "@jupyter-widgets/base",
            "_view_module_version": "1.2.0",
            "_view_name": "LayoutView",
            "align_content": null,
            "align_items": null,
            "align_self": null,
            "border": null,
            "bottom": null,
            "display": null,
            "flex": null,
            "flex_flow": null,
            "grid_area": null,
            "grid_auto_columns": null,
            "grid_auto_flow": null,
            "grid_auto_rows": null,
            "grid_column": null,
            "grid_gap": null,
            "grid_row": null,
            "grid_template_areas": null,
            "grid_template_columns": null,
            "grid_template_rows": null,
            "height": null,
            "justify_content": null,
            "justify_items": null,
            "left": null,
            "margin": null,
            "max_height": null,
            "max_width": null,
            "min_height": null,
            "min_width": null,
            "object_fit": null,
            "object_position": null,
            "order": null,
            "overflow": null,
            "overflow_x": null,
            "overflow_y": null,
            "padding": null,
            "right": null,
            "top": null,
            "visibility": null,
            "width": null
          }
        },
        "8bec3c097ad54e1e89fd16d121f52abe": {
          "model_module": "@jupyter-widgets/controls",
          "model_module_version": "1.5.0",
          "model_name": "DescriptionStyleModel",
          "state": {
            "_model_module": "@jupyter-widgets/controls",
            "_model_module_version": "1.5.0",
            "_model_name": "DescriptionStyleModel",
            "_view_count": null,
            "_view_module": "@jupyter-widgets/base",
            "_view_module_version": "1.2.0",
            "_view_name": "StyleView",
            "description_width": ""
          }
        },
        "90221ef3de3c4eb7b2e26ac2fd13aee9": {
          "model_module": "@jupyter-widgets/controls",
          "model_module_version": "1.5.0",
          "model_name": "HTMLModel",
          "state": {
            "_dom_classes": [],
            "_model_module": "@jupyter-widgets/controls",
            "_model_module_version": "1.5.0",
            "_model_name": "HTMLModel",
            "_view_count": null,
            "_view_module": "@jupyter-widgets/controls",
            "_view_module_version": "1.5.0",
            "_view_name": "HTMLView",
            "description": "",
            "description_tooltip": null,
            "layout": "IPY_MODEL_4853b9b6cb7247c3827e63495d08cf90",
            "placeholder": "​",
            "style": "IPY_MODEL_503b7f4aa9ea40cfb16a2b9f5d4498ae",
            "value": "Downloading: 100%"
          }
        },
        "94c34972e69042d2bd79e7f69fde59db": {
          "model_module": "@jupyter-widgets/controls",
          "model_module_version": "1.5.0",
          "model_name": "DescriptionStyleModel",
          "state": {
            "_model_module": "@jupyter-widgets/controls",
            "_model_module_version": "1.5.0",
            "_model_name": "DescriptionStyleModel",
            "_view_count": null,
            "_view_module": "@jupyter-widgets/base",
            "_view_module_version": "1.2.0",
            "_view_name": "StyleView",
            "description_width": ""
          }
        },
        "9cb4fa5f4839474f97d04e7f60d790f0": {
          "model_module": "@jupyter-widgets/base",
          "model_module_version": "1.2.0",
          "model_name": "LayoutModel",
          "state": {
            "_model_module": "@jupyter-widgets/base",
            "_model_module_version": "1.2.0",
            "_model_name": "LayoutModel",
            "_view_count": null,
            "_view_module": "@jupyter-widgets/base",
            "_view_module_version": "1.2.0",
            "_view_name": "LayoutView",
            "align_content": null,
            "align_items": null,
            "align_self": null,
            "border": null,
            "bottom": null,
            "display": null,
            "flex": null,
            "flex_flow": null,
            "grid_area": null,
            "grid_auto_columns": null,
            "grid_auto_flow": null,
            "grid_auto_rows": null,
            "grid_column": null,
            "grid_gap": null,
            "grid_row": null,
            "grid_template_areas": null,
            "grid_template_columns": null,
            "grid_template_rows": null,
            "height": null,
            "justify_content": null,
            "justify_items": null,
            "left": null,
            "margin": null,
            "max_height": null,
            "max_width": null,
            "min_height": null,
            "min_width": null,
            "object_fit": null,
            "object_position": null,
            "order": null,
            "overflow": null,
            "overflow_x": null,
            "overflow_y": null,
            "padding": null,
            "right": null,
            "top": null,
            "visibility": null,
            "width": null
          }
        },
        "a85283116e204dc8b1685b72e30846ee": {
          "model_module": "@jupyter-widgets/controls",
          "model_module_version": "1.5.0",
          "model_name": "FloatProgressModel",
          "state": {
            "_dom_classes": [],
            "_model_module": "@jupyter-widgets/controls",
            "_model_module_version": "1.5.0",
            "_model_name": "FloatProgressModel",
            "_view_count": null,
            "_view_module": "@jupyter-widgets/controls",
            "_view_module_version": "1.5.0",
            "_view_name": "ProgressView",
            "bar_style": "success",
            "description": "",
            "description_tooltip": null,
            "layout": "IPY_MODEL_d2e3739775a74a33b47b9936b2ce0397",
            "max": 433,
            "min": 0,
            "orientation": "horizontal",
            "style": "IPY_MODEL_5cb4db03d56544fe8c53e7abb8d04597",
            "value": 433
          }
        },
        "b3dbddbb9407439b9e74b1ce0bc123a1": {
          "model_module": "@jupyter-widgets/controls",
          "model_module_version": "1.5.0",
          "model_name": "DescriptionStyleModel",
          "state": {
            "_model_module": "@jupyter-widgets/controls",
            "_model_module_version": "1.5.0",
            "_model_name": "DescriptionStyleModel",
            "_view_count": null,
            "_view_module": "@jupyter-widgets/base",
            "_view_module_version": "1.2.0",
            "_view_name": "StyleView",
            "description_width": ""
          }
        },
        "c09328fa4bad48499412a90d200638ab": {
          "model_module": "@jupyter-widgets/controls",
          "model_module_version": "1.5.0",
          "model_name": "HTMLModel",
          "state": {
            "_dom_classes": [],
            "_model_module": "@jupyter-widgets/controls",
            "_model_module_version": "1.5.0",
            "_model_name": "HTMLModel",
            "_view_count": null,
            "_view_module": "@jupyter-widgets/controls",
            "_view_module_version": "1.5.0",
            "_view_name": "HTMLView",
            "description": "",
            "description_tooltip": null,
            "layout": "IPY_MODEL_3c6d227ab65f4417bbd71499ef854e82",
            "placeholder": "​",
            "style": "IPY_MODEL_62d7c1c43cd24679bc10a1bfc7d224ec",
            "value": " 29.0/29.0 [00:00&lt;00:00, 593B/s]"
          }
        },
        "c2c47f11133c4e6f9641ae1c85fcf4c6": {
          "model_module": "@jupyter-widgets/controls",
          "model_module_version": "1.5.0",
          "model_name": "ProgressStyleModel",
          "state": {
            "_model_module": "@jupyter-widgets/controls",
            "_model_module_version": "1.5.0",
            "_model_name": "ProgressStyleModel",
            "_view_count": null,
            "_view_module": "@jupyter-widgets/base",
            "_view_module_version": "1.2.0",
            "_view_name": "StyleView",
            "bar_color": null,
            "description_width": ""
          }
        },
        "c3f1192b24d04b4e8ade94e3dc20c89f": {
          "model_module": "@jupyter-widgets/controls",
          "model_module_version": "1.5.0",
          "model_name": "HTMLModel",
          "state": {
            "_dom_classes": [],
            "_model_module": "@jupyter-widgets/controls",
            "_model_module_version": "1.5.0",
            "_model_name": "HTMLModel",
            "_view_count": null,
            "_view_module": "@jupyter-widgets/controls",
            "_view_module_version": "1.5.0",
            "_view_name": "HTMLView",
            "description": "",
            "description_tooltip": null,
            "layout": "IPY_MODEL_392d24c775574959ae5e053370c99c70",
            "placeholder": "​",
            "style": "IPY_MODEL_94c34972e69042d2bd79e7f69fde59db",
            "value": " 249k/249k [00:00&lt;00:00, 392kB/s]"
          }
        },
        "c90d8f171d7e437ab363e5a58cf55d7f": {
          "model_module": "@jupyter-widgets/controls",
          "model_module_version": "1.5.0",
          "model_name": "HTMLModel",
          "state": {
            "_dom_classes": [],
            "_model_module": "@jupyter-widgets/controls",
            "_model_module_version": "1.5.0",
            "_model_name": "HTMLModel",
            "_view_count": null,
            "_view_module": "@jupyter-widgets/controls",
            "_view_module_version": "1.5.0",
            "_view_name": "HTMLView",
            "description": "",
            "description_tooltip": null,
            "layout": "IPY_MODEL_647e8cead5de40be8db5b38761ebfcc5",
            "placeholder": "​",
            "style": "IPY_MODEL_e799050a0af64e0e890b8a6229931bf7",
            "value": "Downloading: 100%"
          }
        },
        "d2e3739775a74a33b47b9936b2ce0397": {
          "model_module": "@jupyter-widgets/base",
          "model_module_version": "1.2.0",
          "model_name": "LayoutModel",
          "state": {
            "_model_module": "@jupyter-widgets/base",
            "_model_module_version": "1.2.0",
            "_model_name": "LayoutModel",
            "_view_count": null,
            "_view_module": "@jupyter-widgets/base",
            "_view_module_version": "1.2.0",
            "_view_name": "LayoutView",
            "align_content": null,
            "align_items": null,
            "align_self": null,
            "border": null,
            "bottom": null,
            "display": null,
            "flex": null,
            "flex_flow": null,
            "grid_area": null,
            "grid_auto_columns": null,
            "grid_auto_flow": null,
            "grid_auto_rows": null,
            "grid_column": null,
            "grid_gap": null,
            "grid_row": null,
            "grid_template_areas": null,
            "grid_template_columns": null,
            "grid_template_rows": null,
            "height": null,
            "justify_content": null,
            "justify_items": null,
            "left": null,
            "margin": null,
            "max_height": null,
            "max_width": null,
            "min_height": null,
            "min_width": null,
            "object_fit": null,
            "object_position": null,
            "order": null,
            "overflow": null,
            "overflow_x": null,
            "overflow_y": null,
            "padding": null,
            "right": null,
            "top": null,
            "visibility": null,
            "width": null
          }
        },
        "dac83ce0ff90487daa58f66f21ca8bed": {
          "model_module": "@jupyter-widgets/base",
          "model_module_version": "1.2.0",
          "model_name": "LayoutModel",
          "state": {
            "_model_module": "@jupyter-widgets/base",
            "_model_module_version": "1.2.0",
            "_model_name": "LayoutModel",
            "_view_count": null,
            "_view_module": "@jupyter-widgets/base",
            "_view_module_version": "1.2.0",
            "_view_name": "LayoutView",
            "align_content": null,
            "align_items": null,
            "align_self": null,
            "border": null,
            "bottom": null,
            "display": null,
            "flex": null,
            "flex_flow": null,
            "grid_area": null,
            "grid_auto_columns": null,
            "grid_auto_flow": null,
            "grid_auto_rows": null,
            "grid_column": null,
            "grid_gap": null,
            "grid_row": null,
            "grid_template_areas": null,
            "grid_template_columns": null,
            "grid_template_rows": null,
            "height": null,
            "justify_content": null,
            "justify_items": null,
            "left": null,
            "margin": null,
            "max_height": null,
            "max_width": null,
            "min_height": null,
            "min_width": null,
            "object_fit": null,
            "object_position": null,
            "order": null,
            "overflow": null,
            "overflow_x": null,
            "overflow_y": null,
            "padding": null,
            "right": null,
            "top": null,
            "visibility": null,
            "width": null
          }
        },
        "dad35dfdbae5427abb9bc768253efd34": {
          "model_module": "@jupyter-widgets/controls",
          "model_module_version": "1.5.0",
          "model_name": "DescriptionStyleModel",
          "state": {
            "_model_module": "@jupyter-widgets/controls",
            "_model_module_version": "1.5.0",
            "_model_name": "DescriptionStyleModel",
            "_view_count": null,
            "_view_module": "@jupyter-widgets/base",
            "_view_module_version": "1.2.0",
            "_view_name": "StyleView",
            "description_width": ""
          }
        },
        "ddf278a49e9b4543a13b8ac31230aa6c": {
          "model_module": "@jupyter-widgets/base",
          "model_module_version": "1.2.0",
          "model_name": "LayoutModel",
          "state": {
            "_model_module": "@jupyter-widgets/base",
            "_model_module_version": "1.2.0",
            "_model_name": "LayoutModel",
            "_view_count": null,
            "_view_module": "@jupyter-widgets/base",
            "_view_module_version": "1.2.0",
            "_view_name": "LayoutView",
            "align_content": null,
            "align_items": null,
            "align_self": null,
            "border": null,
            "bottom": null,
            "display": null,
            "flex": null,
            "flex_flow": null,
            "grid_area": null,
            "grid_auto_columns": null,
            "grid_auto_flow": null,
            "grid_auto_rows": null,
            "grid_column": null,
            "grid_gap": null,
            "grid_row": null,
            "grid_template_areas": null,
            "grid_template_columns": null,
            "grid_template_rows": null,
            "height": null,
            "justify_content": null,
            "justify_items": null,
            "left": null,
            "margin": null,
            "max_height": null,
            "max_width": null,
            "min_height": null,
            "min_width": null,
            "object_fit": null,
            "object_position": null,
            "order": null,
            "overflow": null,
            "overflow_x": null,
            "overflow_y": null,
            "padding": null,
            "right": null,
            "top": null,
            "visibility": null,
            "width": null
          }
        },
        "e799050a0af64e0e890b8a6229931bf7": {
          "model_module": "@jupyter-widgets/controls",
          "model_module_version": "1.5.0",
          "model_name": "DescriptionStyleModel",
          "state": {
            "_model_module": "@jupyter-widgets/controls",
            "_model_module_version": "1.5.0",
            "_model_name": "DescriptionStyleModel",
            "_view_count": null,
            "_view_module": "@jupyter-widgets/base",
            "_view_module_version": "1.2.0",
            "_view_name": "StyleView",
            "description_width": ""
          }
        },
        "f081f80a52964de3a1d3d3a30b6fef12": {
          "model_module": "@jupyter-widgets/controls",
          "model_module_version": "1.5.0",
          "model_name": "ProgressStyleModel",
          "state": {
            "_model_module": "@jupyter-widgets/controls",
            "_model_module_version": "1.5.0",
            "_model_name": "ProgressStyleModel",
            "_view_count": null,
            "_view_module": "@jupyter-widgets/base",
            "_view_module_version": "1.2.0",
            "_view_name": "StyleView",
            "bar_color": null,
            "description_width": ""
          }
        },
        "f924f6cee6034752bfd681ffabeafe9c": {
          "model_module": "@jupyter-widgets/controls",
          "model_module_version": "1.5.0",
          "model_name": "FloatProgressModel",
          "state": {
            "_dom_classes": [],
            "_model_module": "@jupyter-widgets/controls",
            "_model_module_version": "1.5.0",
            "_model_name": "FloatProgressModel",
            "_view_count": null,
            "_view_module": "@jupyter-widgets/controls",
            "_view_module_version": "1.5.0",
            "_view_name": "ProgressView",
            "bar_style": "success",
            "description": "",
            "description_tooltip": null,
            "layout": "IPY_MODEL_5507ed704f7d4398ad9471fe55757997",
            "max": 254728,
            "min": 0,
            "orientation": "horizontal",
            "style": "IPY_MODEL_fce03db459a04db7b2005d23ae08a40b",
            "value": 254728
          }
        },
        "fa6727db806d4af19571bc95a6b8e384": {
          "model_module": "@jupyter-widgets/base",
          "model_module_version": "1.2.0",
          "model_name": "LayoutModel",
          "state": {
            "_model_module": "@jupyter-widgets/base",
            "_model_module_version": "1.2.0",
            "_model_name": "LayoutModel",
            "_view_count": null,
            "_view_module": "@jupyter-widgets/base",
            "_view_module_version": "1.2.0",
            "_view_name": "LayoutView",
            "align_content": null,
            "align_items": null,
            "align_self": null,
            "border": null,
            "bottom": null,
            "display": null,
            "flex": null,
            "flex_flow": null,
            "grid_area": null,
            "grid_auto_columns": null,
            "grid_auto_flow": null,
            "grid_auto_rows": null,
            "grid_column": null,
            "grid_gap": null,
            "grid_row": null,
            "grid_template_areas": null,
            "grid_template_columns": null,
            "grid_template_rows": null,
            "height": null,
            "justify_content": null,
            "justify_items": null,
            "left": null,
            "margin": null,
            "max_height": null,
            "max_width": null,
            "min_height": null,
            "min_width": null,
            "object_fit": null,
            "object_position": null,
            "order": null,
            "overflow": null,
            "overflow_x": null,
            "overflow_y": null,
            "padding": null,
            "right": null,
            "top": null,
            "visibility": null,
            "width": null
          }
        },
        "fce03db459a04db7b2005d23ae08a40b": {
          "model_module": "@jupyter-widgets/controls",
          "model_module_version": "1.5.0",
          "model_name": "ProgressStyleModel",
          "state": {
            "_model_module": "@jupyter-widgets/controls",
            "_model_module_version": "1.5.0",
            "_model_name": "ProgressStyleModel",
            "_view_count": null,
            "_view_module": "@jupyter-widgets/base",
            "_view_module_version": "1.2.0",
            "_view_name": "StyleView",
            "bar_color": null,
            "description_width": ""
          }
        }
      }
    }
  },
  "nbformat": 4,
  "nbformat_minor": 0
}
